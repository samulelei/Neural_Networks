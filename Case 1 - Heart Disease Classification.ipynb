{
 "cells": [
  {
   "cell_type": "markdown",
   "metadata": {},
   "source": [
    "# Case 1 - Heart disease prediction\n",
    "Samuel Räsänen, Arttu Sundell, Jari Putaansuu<br>\n",
    "Helsinki Metropolia University of Applied Sciences<br>\n",
    "Last edit: 02.02.2020\n"
   ]
  },
  {
   "cell_type": "markdown",
   "metadata": {},
   "source": [
    "The aim of this case study is to explore and build a simple as possible neural network to support clinical decision making in determining if a person is suffering from an angiographic heart disease. "
   ]
  },
  {
   "cell_type": "markdown",
   "metadata": {},
   "source": [
    "## Background\n",
    "\n",
    "### 1. Used data set\n",
    "The data used in this case study is a well known and ...\n",
    "In this case study, we are using the processed cleveland dataset, where the number of attributes have been diminished to 13 from the original set of almost 80 attributes.<br>\n",
    "The dataset used is available at:<br>\n",
    "https://archive.ics.uci.edu/ml/machine-learning-databases/heart-disease/processed.cleveland.data\n",
    "    \n",
    "### Data set columns and corresponding attributes are as follows: <br>\n",
    " \n",
    "<b>Column numbers & corresponding attributes</b><br>\n",
    "\n",
    "0 = age [years]<br>\n",
    "1 = sex [male = 1, female = 0]<br>\n",
    "2 = cp -- chest pain type [Value 1: typical angina, 2: atypical angina, 3: non-anginal pain,4: asymptomatic]<br>\n",
    "3 = trestbps -- restin blood pressure [in mm Hg on admission to the hospital]<br>\n",
    "4 = chol --serum cholesterol [mg/dl]<br>\n",
    "5 = fbs -- fastin blood sugar fasting blood sugar > 120 mg/dl) [1 = true; 0 = false] <br>\n",
    "6 = restecg -- resting electrocardiographic results [Value 0: normal, 1: having ST-T wave abnormality (T wave inversions and/or ST elevation or depression of > 0.05 mV), 2: showing probable or definite left ventricular hypertrophy by Estes' criteria] <br>\n",
    "7 = thalach -- maximum heart rate achieved<br>\n",
    "8 = exang -- exercise induced angina [1 = yes; 0 = no]<br>\n",
    "9 = oldpeak -- ST depression induced by exercise relative to rest<br>\n",
    "10 = slope --  the slope of the peak exercise ST segment [Value 1: upsloping, 2: flat, 3: downsloping]<br>\n",
    "11 = ca -- number of major vessels (0-3) colored by flourosopy <br>\n",
    "12 = thal --  [3 = normal, 6 = fixed defect, 7 = reversable defect]<br>\n",
    "13 = num --(the predicted attribute) diagnosis of heart disease (angiographic disease status) [Value 0: < 50% diameter narrowing, 1: > 50% diameter narrowing]\n",
    "      \n",
    "\n",
    "\n"
   ]
  },
  {
   "cell_type": "markdown",
   "metadata": {},
   "source": [
    "## Methods\n",
    "This section describes all the tools and methods used in our machine learning model."
   ]
  },
  {
   "cell_type": "markdown",
   "metadata": {},
   "source": [
    "### Libraries used <br>"
   ]
  },
  {
   "cell_type": "code",
   "execution_count": 65,
   "metadata": {},
   "outputs": [
    {
     "name": "stdout",
     "output_type": "stream",
     "text": [
      "Populating the interactive namespace from numpy and matplotlib\n"
     ]
    },
    {
     "name": "stderr",
     "output_type": "stream",
     "text": [
      "C:\\Anaconda\\lib\\site-packages\\IPython\\core\\magics\\pylab.py:160: UserWarning: pylab import has clobbered these variables: ['time']\n",
      "`%matplotlib` prevents importing * from pylab and numpy\n",
      "  \"\\n`%matplotlib` prevents importing * from pylab and numpy\"\n"
     ]
    }
   ],
   "source": [
    "### Importing necessary dependencies\n",
    "\n",
    "%pylab inline\n",
    "import pandas as pd\n",
    "import numpy as np\n",
    "from sklearn import preprocessing\n",
    "from sklearn import model_selection\n",
    "from tensorflow.keras.models import Sequential\n",
    "from tensorflow.keras.layers import Dense, Dropout"
   ]
  },
  {
   "cell_type": "markdown",
   "metadata": {},
   "source": [
    "### 1. Data set preprocessing\n",
    "      \n",
    "Even though we used a preprocessed data set, there was still missing values in the data set that needed to be processed. In the following code, the index column was removed and missing values specified with the character '?' were marked and set to '0'"
   ]
  },
  {
   "cell_type": "code",
   "execution_count": 125,
   "metadata": {},
   "outputs": [
    {
     "data": {
      "text/html": [
       "<div>\n",
       "<style scoped>\n",
       "    .dataframe tbody tr th:only-of-type {\n",
       "        vertical-align: middle;\n",
       "    }\n",
       "\n",
       "    .dataframe tbody tr th {\n",
       "        vertical-align: top;\n",
       "    }\n",
       "\n",
       "    .dataframe thead th {\n",
       "        text-align: right;\n",
       "    }\n",
       "</style>\n",
       "<table border=\"1\" class=\"dataframe\">\n",
       "  <thead>\n",
       "    <tr style=\"text-align: right;\">\n",
       "      <th></th>\n",
       "      <th>0</th>\n",
       "      <th>1</th>\n",
       "      <th>2</th>\n",
       "      <th>3</th>\n",
       "      <th>4</th>\n",
       "      <th>5</th>\n",
       "      <th>6</th>\n",
       "      <th>7</th>\n",
       "      <th>8</th>\n",
       "      <th>9</th>\n",
       "      <th>10</th>\n",
       "      <th>11</th>\n",
       "      <th>12</th>\n",
       "      <th>13</th>\n",
       "    </tr>\n",
       "  </thead>\n",
       "  <tbody>\n",
       "    <tr>\n",
       "      <th>count</th>\n",
       "      <td>297.000000</td>\n",
       "      <td>297.000000</td>\n",
       "      <td>297.000000</td>\n",
       "      <td>297.000000</td>\n",
       "      <td>297.000000</td>\n",
       "      <td>297.000000</td>\n",
       "      <td>297.000000</td>\n",
       "      <td>297.000000</td>\n",
       "      <td>297.000000</td>\n",
       "      <td>297.000000</td>\n",
       "      <td>297.000000</td>\n",
       "      <td>297.000000</td>\n",
       "      <td>297.000000</td>\n",
       "      <td>297.000000</td>\n",
       "    </tr>\n",
       "    <tr>\n",
       "      <th>mean</th>\n",
       "      <td>54.542088</td>\n",
       "      <td>0.676768</td>\n",
       "      <td>3.158249</td>\n",
       "      <td>131.693603</td>\n",
       "      <td>247.350168</td>\n",
       "      <td>0.144781</td>\n",
       "      <td>0.996633</td>\n",
       "      <td>149.599327</td>\n",
       "      <td>0.326599</td>\n",
       "      <td>1.055556</td>\n",
       "      <td>1.602694</td>\n",
       "      <td>0.676768</td>\n",
       "      <td>4.730640</td>\n",
       "      <td>0.946128</td>\n",
       "    </tr>\n",
       "    <tr>\n",
       "      <th>std</th>\n",
       "      <td>9.049736</td>\n",
       "      <td>0.468500</td>\n",
       "      <td>0.964859</td>\n",
       "      <td>17.762806</td>\n",
       "      <td>51.997583</td>\n",
       "      <td>0.352474</td>\n",
       "      <td>0.994914</td>\n",
       "      <td>22.941562</td>\n",
       "      <td>0.469761</td>\n",
       "      <td>1.166123</td>\n",
       "      <td>0.618187</td>\n",
       "      <td>0.938965</td>\n",
       "      <td>1.938629</td>\n",
       "      <td>1.234551</td>\n",
       "    </tr>\n",
       "    <tr>\n",
       "      <th>min</th>\n",
       "      <td>29.000000</td>\n",
       "      <td>0.000000</td>\n",
       "      <td>1.000000</td>\n",
       "      <td>94.000000</td>\n",
       "      <td>126.000000</td>\n",
       "      <td>0.000000</td>\n",
       "      <td>0.000000</td>\n",
       "      <td>71.000000</td>\n",
       "      <td>0.000000</td>\n",
       "      <td>0.000000</td>\n",
       "      <td>1.000000</td>\n",
       "      <td>0.000000</td>\n",
       "      <td>3.000000</td>\n",
       "      <td>0.000000</td>\n",
       "    </tr>\n",
       "    <tr>\n",
       "      <th>25%</th>\n",
       "      <td>48.000000</td>\n",
       "      <td>0.000000</td>\n",
       "      <td>3.000000</td>\n",
       "      <td>120.000000</td>\n",
       "      <td>211.000000</td>\n",
       "      <td>0.000000</td>\n",
       "      <td>0.000000</td>\n",
       "      <td>133.000000</td>\n",
       "      <td>0.000000</td>\n",
       "      <td>0.000000</td>\n",
       "      <td>1.000000</td>\n",
       "      <td>0.000000</td>\n",
       "      <td>3.000000</td>\n",
       "      <td>0.000000</td>\n",
       "    </tr>\n",
       "    <tr>\n",
       "      <th>50%</th>\n",
       "      <td>56.000000</td>\n",
       "      <td>1.000000</td>\n",
       "      <td>3.000000</td>\n",
       "      <td>130.000000</td>\n",
       "      <td>243.000000</td>\n",
       "      <td>0.000000</td>\n",
       "      <td>1.000000</td>\n",
       "      <td>153.000000</td>\n",
       "      <td>0.000000</td>\n",
       "      <td>0.800000</td>\n",
       "      <td>2.000000</td>\n",
       "      <td>0.000000</td>\n",
       "      <td>3.000000</td>\n",
       "      <td>0.000000</td>\n",
       "    </tr>\n",
       "    <tr>\n",
       "      <th>75%</th>\n",
       "      <td>61.000000</td>\n",
       "      <td>1.000000</td>\n",
       "      <td>4.000000</td>\n",
       "      <td>140.000000</td>\n",
       "      <td>276.000000</td>\n",
       "      <td>0.000000</td>\n",
       "      <td>2.000000</td>\n",
       "      <td>166.000000</td>\n",
       "      <td>1.000000</td>\n",
       "      <td>1.600000</td>\n",
       "      <td>2.000000</td>\n",
       "      <td>1.000000</td>\n",
       "      <td>7.000000</td>\n",
       "      <td>2.000000</td>\n",
       "    </tr>\n",
       "    <tr>\n",
       "      <th>max</th>\n",
       "      <td>77.000000</td>\n",
       "      <td>1.000000</td>\n",
       "      <td>4.000000</td>\n",
       "      <td>200.000000</td>\n",
       "      <td>564.000000</td>\n",
       "      <td>1.000000</td>\n",
       "      <td>2.000000</td>\n",
       "      <td>202.000000</td>\n",
       "      <td>1.000000</td>\n",
       "      <td>6.200000</td>\n",
       "      <td>3.000000</td>\n",
       "      <td>3.000000</td>\n",
       "      <td>7.000000</td>\n",
       "      <td>4.000000</td>\n",
       "    </tr>\n",
       "  </tbody>\n",
       "</table>\n",
       "</div>"
      ],
      "text/plain": [
       "               0           1           2           3           4           5   \\\n",
       "count  297.000000  297.000000  297.000000  297.000000  297.000000  297.000000   \n",
       "mean    54.542088    0.676768    3.158249  131.693603  247.350168    0.144781   \n",
       "std      9.049736    0.468500    0.964859   17.762806   51.997583    0.352474   \n",
       "min     29.000000    0.000000    1.000000   94.000000  126.000000    0.000000   \n",
       "25%     48.000000    0.000000    3.000000  120.000000  211.000000    0.000000   \n",
       "50%     56.000000    1.000000    3.000000  130.000000  243.000000    0.000000   \n",
       "75%     61.000000    1.000000    4.000000  140.000000  276.000000    0.000000   \n",
       "max     77.000000    1.000000    4.000000  200.000000  564.000000    1.000000   \n",
       "\n",
       "               6           7           8           9           10          11  \\\n",
       "count  297.000000  297.000000  297.000000  297.000000  297.000000  297.000000   \n",
       "mean     0.996633  149.599327    0.326599    1.055556    1.602694    0.676768   \n",
       "std      0.994914   22.941562    0.469761    1.166123    0.618187    0.938965   \n",
       "min      0.000000   71.000000    0.000000    0.000000    1.000000    0.000000   \n",
       "25%      0.000000  133.000000    0.000000    0.000000    1.000000    0.000000   \n",
       "50%      1.000000  153.000000    0.000000    0.800000    2.000000    0.000000   \n",
       "75%      2.000000  166.000000    1.000000    1.600000    2.000000    1.000000   \n",
       "max      2.000000  202.000000    1.000000    6.200000    3.000000    3.000000   \n",
       "\n",
       "               12          13  \n",
       "count  297.000000  297.000000  \n",
       "mean     4.730640    0.946128  \n",
       "std      1.938629    1.234551  \n",
       "min      3.000000    0.000000  \n",
       "25%      3.000000    0.000000  \n",
       "50%      3.000000    0.000000  \n",
       "75%      7.000000    2.000000  \n",
       "max      7.000000    4.000000  "
      ]
     },
     "execution_count": 125,
     "metadata": {},
     "output_type": "execute_result"
    }
   ],
   "source": [
    "filename = \"https://archive.ics.uci.edu/ml/machine-learning-databases/heart-disease/processed.cleveland.data\" #Assigning the data source\n",
    "df = pd.read_csv(filename, index_col = None, header = None, na_values = '?') # Reading the data file\n",
    "df = df.dropna() # removing index column and headers and specifying missing value notation\n",
    "df.fillna(0) #    filling n/a values with 0\n",
    "df.tail() # printing the tail (5 values) of the data\n",
    "df.describe()"
   ]
  },
  {
   "cell_type": "markdown",
   "metadata": {},
   "source": [
    "The data was split in to input variables (the first 12 attributes) and the true target values (diagnosis of heart disease)"
   ]
  },
  {
   "cell_type": "code",
   "execution_count": 126,
   "metadata": {},
   "outputs": [
    {
     "name": "stdout",
     "output_type": "stream",
     "text": [
      "(297, 13)\n",
      "(297,)\n"
     ]
    }
   ],
   "source": [
    "data = df.loc[:, 0:12] ### Splitting the data, columns 0-12 and labels, column 13 (cast all values to 1 where value is more than 0)\n",
    "labels = 1.0*(df.loc[:, 13] > 0)\n",
    "print(data.shape)##  printing the shape of data and labels afterwards\n",
    "print(labels.shape)\n",
    "## labels_healthy = (df.loc[:, 13] == 0)\n",
    "## labels_diseased = (df.loc[:, 13] > 0)\n",
    "## print(labels_healthy)\n",
    "## print(labels_diseased)"
   ]
  },
  {
   "cell_type": "markdown",
   "metadata": {},
   "source": [
    "Estimatros might not work properly if the individual input data paramaeters differ a lot in scales and distributions. Since the data consists of different types of variables with values ranging from 0 to hundreds, it needed to be scaled in order to make the scales and distributions to align and optimize the data for a neural network application."
   ]
  },
  {
   "cell_type": "code",
   "execution_count": 127,
   "metadata": {
    "scrolled": true
   },
   "outputs": [
    {
     "data": {
      "text/html": [
       "<div>\n",
       "<style scoped>\n",
       "    .dataframe tbody tr th:only-of-type {\n",
       "        vertical-align: middle;\n",
       "    }\n",
       "\n",
       "    .dataframe tbody tr th {\n",
       "        vertical-align: top;\n",
       "    }\n",
       "\n",
       "    .dataframe thead th {\n",
       "        text-align: right;\n",
       "    }\n",
       "</style>\n",
       "<table border=\"1\" class=\"dataframe\">\n",
       "  <thead>\n",
       "    <tr style=\"text-align: right;\">\n",
       "      <th></th>\n",
       "      <th>0</th>\n",
       "      <th>1</th>\n",
       "      <th>2</th>\n",
       "      <th>3</th>\n",
       "      <th>4</th>\n",
       "      <th>5</th>\n",
       "      <th>6</th>\n",
       "      <th>7</th>\n",
       "      <th>8</th>\n",
       "      <th>9</th>\n",
       "      <th>10</th>\n",
       "      <th>11</th>\n",
       "      <th>12</th>\n",
       "    </tr>\n",
       "  </thead>\n",
       "  <tbody>\n",
       "    <tr>\n",
       "      <th>count</th>\n",
       "      <td>297.000000</td>\n",
       "      <td>297.000000</td>\n",
       "      <td>297.000000</td>\n",
       "      <td>297.000000</td>\n",
       "      <td>297.000000</td>\n",
       "      <td>297.000000</td>\n",
       "      <td>297.000000</td>\n",
       "      <td>297.000000</td>\n",
       "      <td>297.000000</td>\n",
       "      <td>297.000000</td>\n",
       "      <td>297.000000</td>\n",
       "      <td>297.000000</td>\n",
       "      <td>297.000000</td>\n",
       "    </tr>\n",
       "    <tr>\n",
       "      <th>mean</th>\n",
       "      <td>0.532127</td>\n",
       "      <td>0.676768</td>\n",
       "      <td>0.719416</td>\n",
       "      <td>0.355600</td>\n",
       "      <td>0.277055</td>\n",
       "      <td>0.144781</td>\n",
       "      <td>0.498316</td>\n",
       "      <td>0.599995</td>\n",
       "      <td>0.326599</td>\n",
       "      <td>0.170251</td>\n",
       "      <td>0.301347</td>\n",
       "      <td>0.225589</td>\n",
       "      <td>0.432660</td>\n",
       "    </tr>\n",
       "    <tr>\n",
       "      <th>std</th>\n",
       "      <td>0.188536</td>\n",
       "      <td>0.468500</td>\n",
       "      <td>0.321620</td>\n",
       "      <td>0.167574</td>\n",
       "      <td>0.118716</td>\n",
       "      <td>0.352474</td>\n",
       "      <td>0.497457</td>\n",
       "      <td>0.175126</td>\n",
       "      <td>0.469761</td>\n",
       "      <td>0.188084</td>\n",
       "      <td>0.309093</td>\n",
       "      <td>0.312988</td>\n",
       "      <td>0.484657</td>\n",
       "    </tr>\n",
       "    <tr>\n",
       "      <th>min</th>\n",
       "      <td>0.000000</td>\n",
       "      <td>0.000000</td>\n",
       "      <td>0.000000</td>\n",
       "      <td>0.000000</td>\n",
       "      <td>0.000000</td>\n",
       "      <td>0.000000</td>\n",
       "      <td>0.000000</td>\n",
       "      <td>0.000000</td>\n",
       "      <td>0.000000</td>\n",
       "      <td>0.000000</td>\n",
       "      <td>0.000000</td>\n",
       "      <td>0.000000</td>\n",
       "      <td>0.000000</td>\n",
       "    </tr>\n",
       "    <tr>\n",
       "      <th>25%</th>\n",
       "      <td>0.395833</td>\n",
       "      <td>0.000000</td>\n",
       "      <td>0.666667</td>\n",
       "      <td>0.245283</td>\n",
       "      <td>0.194064</td>\n",
       "      <td>0.000000</td>\n",
       "      <td>0.000000</td>\n",
       "      <td>0.473282</td>\n",
       "      <td>0.000000</td>\n",
       "      <td>0.000000</td>\n",
       "      <td>0.000000</td>\n",
       "      <td>0.000000</td>\n",
       "      <td>0.000000</td>\n",
       "    </tr>\n",
       "    <tr>\n",
       "      <th>50%</th>\n",
       "      <td>0.562500</td>\n",
       "      <td>1.000000</td>\n",
       "      <td>0.666667</td>\n",
       "      <td>0.339623</td>\n",
       "      <td>0.267123</td>\n",
       "      <td>0.000000</td>\n",
       "      <td>0.500000</td>\n",
       "      <td>0.625954</td>\n",
       "      <td>0.000000</td>\n",
       "      <td>0.129032</td>\n",
       "      <td>0.500000</td>\n",
       "      <td>0.000000</td>\n",
       "      <td>0.000000</td>\n",
       "    </tr>\n",
       "    <tr>\n",
       "      <th>75%</th>\n",
       "      <td>0.666667</td>\n",
       "      <td>1.000000</td>\n",
       "      <td>1.000000</td>\n",
       "      <td>0.433962</td>\n",
       "      <td>0.342466</td>\n",
       "      <td>0.000000</td>\n",
       "      <td>1.000000</td>\n",
       "      <td>0.725191</td>\n",
       "      <td>1.000000</td>\n",
       "      <td>0.258065</td>\n",
       "      <td>0.500000</td>\n",
       "      <td>0.333333</td>\n",
       "      <td>1.000000</td>\n",
       "    </tr>\n",
       "    <tr>\n",
       "      <th>max</th>\n",
       "      <td>1.000000</td>\n",
       "      <td>1.000000</td>\n",
       "      <td>1.000000</td>\n",
       "      <td>1.000000</td>\n",
       "      <td>1.000000</td>\n",
       "      <td>1.000000</td>\n",
       "      <td>1.000000</td>\n",
       "      <td>1.000000</td>\n",
       "      <td>1.000000</td>\n",
       "      <td>1.000000</td>\n",
       "      <td>1.000000</td>\n",
       "      <td>1.000000</td>\n",
       "      <td>1.000000</td>\n",
       "    </tr>\n",
       "  </tbody>\n",
       "</table>\n",
       "</div>"
      ],
      "text/plain": [
       "               0           1           2           3           4           5   \\\n",
       "count  297.000000  297.000000  297.000000  297.000000  297.000000  297.000000   \n",
       "mean     0.532127    0.676768    0.719416    0.355600    0.277055    0.144781   \n",
       "std      0.188536    0.468500    0.321620    0.167574    0.118716    0.352474   \n",
       "min      0.000000    0.000000    0.000000    0.000000    0.000000    0.000000   \n",
       "25%      0.395833    0.000000    0.666667    0.245283    0.194064    0.000000   \n",
       "50%      0.562500    1.000000    0.666667    0.339623    0.267123    0.000000   \n",
       "75%      0.666667    1.000000    1.000000    0.433962    0.342466    0.000000   \n",
       "max      1.000000    1.000000    1.000000    1.000000    1.000000    1.000000   \n",
       "\n",
       "               6           7           8           9           10          11  \\\n",
       "count  297.000000  297.000000  297.000000  297.000000  297.000000  297.000000   \n",
       "mean     0.498316    0.599995    0.326599    0.170251    0.301347    0.225589   \n",
       "std      0.497457    0.175126    0.469761    0.188084    0.309093    0.312988   \n",
       "min      0.000000    0.000000    0.000000    0.000000    0.000000    0.000000   \n",
       "25%      0.000000    0.473282    0.000000    0.000000    0.000000    0.000000   \n",
       "50%      0.500000    0.625954    0.000000    0.129032    0.500000    0.000000   \n",
       "75%      1.000000    0.725191    1.000000    0.258065    0.500000    0.333333   \n",
       "max      1.000000    1.000000    1.000000    1.000000    1.000000    1.000000   \n",
       "\n",
       "               12  \n",
       "count  297.000000  \n",
       "mean     0.432660  \n",
       "std      0.484657  \n",
       "min      0.000000  \n",
       "25%      0.000000  \n",
       "50%      0.000000  \n",
       "75%      1.000000  \n",
       "max      1.000000  "
      ]
     },
     "execution_count": 127,
     "metadata": {},
     "output_type": "execute_result"
    }
   ],
   "source": [
    "minmax_scaler = preprocessing.MinMaxScaler()# Creating a scaler\n",
    "scaled_data = minmax_scaler.fit_transform(data)# Scaling the data to only have values between 0 and 1. \n",
    "df = pd.DataFrame(scaled_data)\n",
    "df.describe() # df.describe to validate the scaling is done"
   ]
  },
  {
   "cell_type": "markdown",
   "metadata": {},
   "source": [
    "### Splitting the data to training and test set\n",
    "The data to train needs to be separated from the test and validation data. "
   ]
  },
  {
   "cell_type": "code",
   "execution_count": 128,
   "metadata": {},
   "outputs": [],
   "source": [
    "\n",
    "train_data,test_data,train_labels,test_labels = model_selection.train_test_split(df,labels,test_size=0.30,shuffle=True)\n",
    "#Splitting the data and labels to the training set and test set (70% training set, 30% test set) \n",
    "#shuffle=True => shuffle from where to take the training and test samples\n",
    "\n",
    "# Casting the labels as numpy arrays to avoid Tensorflow Warnings\n",
    "train_data = np.asarray(train_data)\n",
    "test_data = np.asarray(test_data)\n",
    "train_labels = np.asarray(train_labels)\n",
    "test_labels = np.asarray(test_labels)"
   ]
  },
  {
   "cell_type": "markdown",
   "metadata": {},
   "source": [
    "## Building the model <br>\n",
    "\n",
    "<b> The amount of layers and neurons:</b>\n",
    "A very simple binary classification problem could be solved using only the input and the output layers with sufficient amount of neurons.\n",
    "For complex classification problems you usually need one or more hidden layers in addition to input and output layers, since multilayer networks are better in  approximating. It is best to start with 1 or 2 hidden layers.\n",
    "The best amount of neurons is achieved by trial and error. In solving binary classification problems, the number of neurons in the output layer should always be 1.\n",
    "\n",
    "<b>The activation functions:</b>The most widely used and relevant activation functions concerning this case are Relu and Sigmoid. In binary classification the activation function used for the output layer should always be sigmoid, since sigmoid squashes the output in the range of [0,1],  which can be interpreted as the probability of the input being in class 1.\n",
    "\n",
    "<b>The loss function</b>: The loss function generally used for binary classification problems such as the one we are investigating is the binary cross-entropy loss also called the negative log likelihood. Cross-entropy will calculate a score that summarizes the average difference between the actual and predicted probability distributions for predicting class 1. The aim is to minimize the score to as close as possible to 0. Another threshold to keep in mind is that a  log loss value of 0.693 would mean that the probability of the prediction is 50%.\n",
    "\n",
    "<b>Optimizer:</b> The most suitable optimizer options that we encountered having used in similar cases are rmsprop and adam.<br>\n",
    "\n",
    "<b>Number of epochs</b> is defined by trial and error. After testin the models and visualizing the losses and accuracies of training and validation data, the appropriate amount of epochs should be defined by the visualized data.\n",
    "\n",
    "<b>The size of the batch </b> defines how often the the weight and bias parameters are updated going throuh all the training data during one epoch.\n",
    "\n",
    "Considering the above we built 3 different models:<br>\n",
    "Model 1: For the reasons of trying a really simple \"neural network\" we created a simple model with only input and output layers. No activation function in teh input layer and sigmoid in the output layer. Adam as optimizer. <br>\n",
    "Model 2: Model with additional hidden layer, using relu and input and output using sidmoid-activation functions. Adam as optimizer <br>\n",
    "Model 3: Model with 1 hidden layer, using sigmoid activation function on all the layers and an rmsprop optimizer.<br>\n",
    "\n",
    "A binary cross-entropy loss function was used for all models as wel as a dropout of 20 % after each layer."
   ]
  },
  {
   "cell_type": "code",
   "execution_count": 130,
   "metadata": {},
   "outputs": [
    {
     "name": "stdout",
     "output_type": "stream",
     "text": [
      "Model: \"sequential_59\"\n",
      "_________________________________________________________________\n",
      "Layer (type)                 Output Shape              Param #   \n",
      "=================================================================\n",
      "dense_162 (Dense)            (None, 64)                896       \n",
      "_________________________________________________________________\n",
      "dropout_104 (Dropout)        (None, 64)                0         \n",
      "_________________________________________________________________\n",
      "dense_163 (Dense)            (None, 1)                 65        \n",
      "=================================================================\n",
      "Total params: 961\n",
      "Trainable params: 961\n",
      "Non-trainable params: 0\n",
      "_________________________________________________________________\n",
      "Model: \"sequential_60\"\n",
      "_________________________________________________________________\n",
      "Layer (type)                 Output Shape              Param #   \n",
      "=================================================================\n",
      "dense_164 (Dense)            (None, 64)                896       \n",
      "_________________________________________________________________\n",
      "dropout_105 (Dropout)        (None, 64)                0         \n",
      "_________________________________________________________________\n",
      "dense_165 (Dense)            (None, 64)                4160      \n",
      "_________________________________________________________________\n",
      "dropout_106 (Dropout)        (None, 64)                0         \n",
      "_________________________________________________________________\n",
      "dense_166 (Dense)            (None, 1)                 65        \n",
      "=================================================================\n",
      "Total params: 5,121\n",
      "Trainable params: 5,121\n",
      "Non-trainable params: 0\n",
      "_________________________________________________________________\n",
      "Model: \"sequential_61\"\n",
      "_________________________________________________________________\n",
      "Layer (type)                 Output Shape              Param #   \n",
      "=================================================================\n",
      "dense_167 (Dense)            (None, 64)                896       \n",
      "_________________________________________________________________\n",
      "dropout_107 (Dropout)        (None, 64)                0         \n",
      "_________________________________________________________________\n",
      "dense_168 (Dense)            (None, 64)                4160      \n",
      "_________________________________________________________________\n",
      "dropout_108 (Dropout)        (None, 64)                0         \n",
      "_________________________________________________________________\n",
      "dense_169 (Dense)            (None, 1)                 65        \n",
      "=================================================================\n",
      "Total params: 5,121\n",
      "Trainable params: 5,121\n",
      "Non-trainable params: 0\n",
      "_________________________________________________________________\n"
     ]
    }
   ],
   "source": [
    "### Creating the neural network model\n",
    "##  choosing the activation & loss methods, optimizer and metrics\n",
    "#   dropout 20-50% to prevent overfitting\n",
    "\n",
    "# Model 1 ,simple model with input and output layers\n",
    "model1 = Sequential()\n",
    "model1.add(Dense(64, input_shape=(train_data.shape[1],)))\n",
    "model1.add(Dropout(0.2))\n",
    "model1.add(Dense(1, activation='sigmoid'))\n",
    "model1.summary()\n",
    "model1.compile(optimizer='adam', loss='binary_crossentropy', metrics=['accuracy'])\n",
    "\n",
    "#model 2, 1 hidden layer relu-sigmoid-sigmoid\n",
    "model2 = Sequential()\n",
    "model2.add(Dense(64, activation='relu', input_shape=(train_data.shape[1],)))\n",
    "model2.add(Dropout(0.2))\n",
    "model2.add(Dense(64, activation='sigmoid'))\n",
    "model2.add(Dropout(0.2))\n",
    "model2.add(Dense(1, activation='sigmoid'))\n",
    "model2.summary()\n",
    "model2.compile(optimizer='adam', loss='binary_crossentropy', metrics=['accuracy'])\n",
    "\n",
    "#model 3, 1 hidden layer sigmoid-sigmoid-sigmoid\n",
    "\n",
    "model3 = Sequential()\n",
    "model3.add(Dense(64, activation='sigmoid', input_shape=(train_data.shape[1],)))\n",
    "model3.add(Dropout(0.2))\n",
    "model3.add(Dense(64, activation='sigmoid'))\n",
    "model3.add(Dropout(0.2))\n",
    "model3.add(Dense(1, activation='sigmoid'))\n",
    "model3.summary()\n",
    "model3.compile(optimizer='adam', loss='binary_crossentropy', metrics=['accuracy'])"
   ]
  },
  {
   "cell_type": "markdown",
   "metadata": {},
   "source": [
    "The models were fitted using similar epochs and a small batch size."
   ]
  },
  {
   "cell_type": "code",
   "execution_count": null,
   "metadata": {},
   "outputs": [
    {
     "name": "stdout",
     "output_type": "stream",
     "text": [
      "Training prototype model 1....\n",
      "Training model 1complete.\n",
      "Training prototype model 2....\n",
      "Training model 2 complete.\n",
      "Training prototype model 3....\n"
     ]
    }
   ],
   "source": [
    "### Fitting the model\n",
    "##  usual syntax of fitting:\n",
    "#   model.fit(train_data, train_labels, validation_split=0-1, batch_size=X, epochs=X)\n",
    "\n",
    "# Splitting the data and labels to the training and validation set (75% training, 25% validation)\n",
    "\n",
    "print (\"Training prototype model 1....\")\n",
    "prototype1=model1.fit(train_data, train_labels, validation_split=0.25, epochs=500, batch_size=30,verbose=0)\n",
    "print (\"Training model 1complete.\")\n",
    "\n",
    "print (\"Training prototype model 2....\")\n",
    "prototype2=model2.fit(train_data, train_labels, validation_split=0.25, epochs=500, batch_size=30,verbose=0)\n",
    "print (\"Training model 2 complete.\")\n",
    "\n",
    "print (\"Training prototype model 3....\")\n",
    "prototype3=model3.fit(train_data, train_labels, validation_split=0.25, epochs=500, batch_size=30,verbose=0)\n",
    "print (\"Training model 3 complete.\")\n",
    "\n",
    "# Printing plottable values\n",
    "print(prototype1.history.keys())"
   ]
  },
  {
   "cell_type": "code",
   "execution_count": 121,
   "metadata": {},
   "outputs": [
    {
     "name": "stdout",
     "output_type": "stream",
     "text": [
      "Model 1\n"
     ]
    },
    {
     "data": {
      "image/png": "[encoded data removed]",
      "text/plain": [
       "<Figure size 432x288 with 1 Axes>"
      ]
     },
     "metadata": {
      "needs_background": "light"
     },
     "output_type": "display_data"
    },
    {
     "data": {
      "image/png": "[encoded data removed]",
      "text/plain": [
       "<Figure size 432x288 with 1 Axes>"
      ]
     },
     "metadata": {
      "needs_background": "light"
     },
     "output_type": "display_data"
    },
    {
     "name": "stdout",
     "output_type": "stream",
     "text": [
      "Model 2\n"
     ]
    },
    {
     "data": {
      "image/png": "[encoded data removed]",
      "text/plain": [
       "<Figure size 432x288 with 1 Axes>"
      ]
     },
     "metadata": {
      "needs_background": "light"
     },
     "output_type": "display_data"
    },
    {
     "data": {
      "image/png": "[encoded data removed]",
      "text/plain": [
       "<Figure size 432x288 with 1 Axes>"
      ]
     },
     "metadata": {
      "needs_background": "light"
     },
     "output_type": "display_data"
    },
    {
     "name": "stdout",
     "output_type": "stream",
     "text": [
      "Model 3\n"
     ]
    },
    {
     "data": {
      "image/png": "[encoded data removed]",
      "text/plain": [
       "<Figure size 432x288 with 1 Axes>"
      ]
     },
     "metadata": {
      "needs_background": "light"
     },
     "output_type": "display_data"
    },
    {
     "data": {
      "image/png": "[encoded data removed]",
      "text/plain": [
       "<Figure size 432x288 with 1 Axes>"
      ]
     },
     "metadata": {
      "needs_background": "light"
     },
     "output_type": "display_data"
    },
    {
     "data": {
      "image/png": "[encoded data removed]",
      "text/plain": [
       "<Figure size 432x288 with 1 Axes>"
      ]
     },
     "metadata": {
      "needs_background": "light"
     },
     "output_type": "display_data"
    }
   ],
   "source": [
    "### Plotting Epochs in correlation to loss and accuracy\n",
    "#model 1\n",
    "loss = prototype1.history['loss']\n",
    "val_loss = prototype1.history['val_loss']\n",
    "accuracy = prototype1.history['accuracy']\n",
    "val_accuracy = prototype1.history['val_accuracy']\n",
    "\n",
    "time = range(1,len(loss)+1)\n",
    "\n",
    "#model 2\n",
    "loss2 = prototype2.history['loss']\n",
    "val_loss2 = prototype2.history['val_loss']\n",
    "accuracy2 = prototype2.history['accuracy']\n",
    "val_accuracy2 = prototype2.history['val_accuracy']\n",
    "\n",
    "time2 = range(1,len(loss)+1)\n",
    "\n",
    "#model 3\n",
    "loss3 = prototype3.history['loss']\n",
    "val_loss3 = prototype3.history['val_loss']\n",
    "accuracy3 = prototype3.history['accuracy']\n",
    "val_accuracy3 = prototype3.history['val_accuracy']\n",
    "\n",
    "time3 = range(1,len(loss)+1)\n",
    "\n",
    "#plots\n",
    "#model 1\n",
    "print(\"Model 1\")\n",
    "plt.plot(time, loss, 'b-')\n",
    "plt.plot(time, val_loss, 'r-')\n",
    "plt.xlabel('Epochs')\n",
    "plt.ylabel('Loss')\n",
    "plt.show()\n",
    "\n",
    "plt.plot(time, accuracy, 'b-')\n",
    "plt.plot(time, val_accuracy, 'r-')\n",
    "plt.xlabel('Epochs')\n",
    "plt.ylabel('Accuracy')\n",
    "plt.show()\n",
    "\n",
    "#model2\n",
    "print(\"Model 2\")\n",
    "plt.plot(time2, loss2, 'c--')\n",
    "plt.plot(time2, val_loss, 'k--')\n",
    "plt.xlabel('Epochs')\n",
    "plt.ylabel('Loss')\n",
    "plt.show()\n",
    "\n",
    "plt.plot(time2, accuracy2, 'c--')\n",
    "plt.plot(time2, val_accuracy2, 'k--')\n",
    "plt.xlabel('Epochs')\n",
    "plt.ylabel('Accuracy')\n",
    "plt.show()\n",
    "\n",
    "#model3\n",
    "print(\"Model 3\")\n",
    "plt.plot(time3, loss3, 'g--')\n",
    "plt.plot(time3, val_loss3, 'm--')\n",
    "plt.xlabel('Epochs')\n",
    "plt.ylabel('Loss')\n",
    "plt.show()\n",
    "\n",
    "plt.plot(time3, accuracy3, 'g--')\n",
    "plt.plot(time3, val_accuracy3, 'm--')\n",
    "plt.xlabel('Epochs')\n",
    "plt.ylabel('Accuracy')\n",
    "plt.show()\n",
    "\n",
    "### Smooth the validation accuracy curve to find the optimal amount of Epochs\n",
    "\n",
    "def smooth_curve(points, factor=0.9):\n",
    "    smoothed_points = []\n",
    "    for point in points:\n",
    "        if smoothed_points:\n",
    "            previous = smoothed_points[-1]\n",
    "            smoothed_points.append(previous * factor + point * (1 - factor))\n",
    "        else:\n",
    "            smoothed_points.append(point)\n",
    "    return smoothed_points\n",
    "\n",
    "smooth_val_accuracy = smooth_curve(val_accuracy[0:])\n",
    "smooth_val_accuracy2 = smooth_curve(val_accuracy2[0:])\n",
    "smooth_val_accuracy3 = smooth_curve(val_accuracy3[0:])\n",
    "\n",
    "plt.plot(range(1, len(smooth_val_accuracy) + 1), smooth_val_accuracy, 'r-')\n",
    "plt.plot(range(1, len(smooth_val_accuracy2) + 1), smooth_val_accuracy2, 'k-')\n",
    "plt.plot(range(1, len(smooth_val_accuracy3) + 1), smooth_val_accuracy3, 'm-')\n",
    "plt.legend(('Model 1', 'Model 2', 'Model 3'),\n",
    "           loc='upper right')\n",
    "plt.xlabel('Epochs')\n",
    "plt.ylabel('Validation accuracy')\n",
    "plt.show()"
   ]
  },
  {
   "cell_type": "code",
   "execution_count": 122,
   "metadata": {},
   "outputs": [
    {
     "name": "stdout",
     "output_type": "stream",
     "text": [
      "Model: \"sequential_53\"\n",
      "_________________________________________________________________\n",
      "Layer (type)                 Output Shape              Param #   \n",
      "=================================================================\n",
      "dense_146 (Dense)            (None, 64)                896       \n",
      "_________________________________________________________________\n",
      "dropout_94 (Dropout)         (None, 64)                0         \n",
      "_________________________________________________________________\n",
      "dense_147 (Dense)            (None, 1)                 65        \n",
      "=================================================================\n",
      "Total params: 961\n",
      "Trainable params: 961\n",
      "Non-trainable params: 0\n",
      "_________________________________________________________________\n",
      "Model: \"sequential_54\"\n",
      "_________________________________________________________________\n",
      "Layer (type)                 Output Shape              Param #   \n",
      "=================================================================\n",
      "dense_148 (Dense)            (None, 64)                896       \n",
      "_________________________________________________________________\n",
      "dropout_95 (Dropout)         (None, 64)                0         \n",
      "_________________________________________________________________\n",
      "dense_149 (Dense)            (None, 65)                4225      \n",
      "_________________________________________________________________\n",
      "dropout_96 (Dropout)         (None, 65)                0         \n",
      "_________________________________________________________________\n",
      "dense_150 (Dense)            (None, 1)                 66        \n",
      "=================================================================\n",
      "Total params: 5,187\n",
      "Trainable params: 5,187\n",
      "Non-trainable params: 0\n",
      "_________________________________________________________________\n",
      "Model: \"sequential_55\"\n",
      "_________________________________________________________________\n",
      "Layer (type)                 Output Shape              Param #   \n",
      "=================================================================\n",
      "dense_151 (Dense)            (None, 64)                896       \n",
      "_________________________________________________________________\n",
      "dropout_97 (Dropout)         (None, 64)                0         \n",
      "_________________________________________________________________\n",
      "dense_152 (Dense)            (None, 64)                4160      \n",
      "_________________________________________________________________\n",
      "dropout_98 (Dropout)         (None, 64)                0         \n",
      "_________________________________________________________________\n",
      "dense_153 (Dense)            (None, 1)                 65        \n",
      "=================================================================\n",
      "Total params: 5,121\n",
      "Trainable params: 5,121\n",
      "Non-trainable params: 0\n",
      "_________________________________________________________________\n"
     ]
    }
   ],
   "source": [
    "### Build a fresh neural network model based on the graphical data to avoid over/undertraining\n",
    "model1 = Sequential()\n",
    "model1.add(Dense(64, input_shape=(train_data.shape[1],)))\n",
    "model1.add(Dropout(0.2))\n",
    "model1.add(Dense(1, activation='sigmoid'))\n",
    "model1.summary()\n",
    "model1.compile(optimizer='adam', loss='binary_crossentropy', metrics=['accuracy'])\n",
    "\n",
    "model2 = Sequential()\n",
    "model2.add(Dense(64, activation='relu', input_shape=(train_data.shape[1],)))\n",
    "model2.add(Dropout(0.2))\n",
    "model2.add(Dense(64, activation='sigmoid'))\n",
    "model2.add(Dropout(0.2))\n",
    "model2.add(Dense(1, activation='sigmoid'))\n",
    "model2.summary()\n",
    "model2.compile(optimizer='adam', loss='binary_crossentropy', metrics=['accuracy'])\n",
    "\n",
    "model3 = Sequential()\n",
    "model3.add(Dense(64, activation='sigmoid', input_shape=(train_data.shape[1],)))\n",
    "model3.add(Dropout(0.2))\n",
    "model3.add(Dense(64, activation='sigmoid'))\n",
    "model3.add(Dropout(0.2))\n",
    "model3.add(Dense(1, activation='sigmoid'))\n",
    "model3.summary()\n",
    "model3.compile(optimizer='adam', loss='binary_crossentropy', metrics=['accuracy'])"
   ]
  },
  {
   "cell_type": "code",
   "execution_count": 123,
   "metadata": {},
   "outputs": [
    {
     "name": "stdout",
     "output_type": "stream",
     "text": [
      "Training final models....\n",
      "Training complete.\n"
     ]
    }
   ],
   "source": [
    "### Train the new final model for a suitable amount to obtain best results\n",
    "##  check optimal epoch amount from above to avoid overfitting etc.\n",
    "#   now do use the whole training data, including the samples previously used for validation only)\n",
    "\n",
    "print (\"Training final models....\")\n",
    "final = model1.fit(train_data, train_labels, epochs=50, batch_size=32, verbose=0)\n",
    "final = model2.fit(train_data, train_labels, epochs=50, batch_size=32, verbose=0)\n",
    "final = model3.fit(train_data, train_labels, epochs=50, batch_size=32, verbose=0)\n",
    "print (\"Training complete.\")"
   ]
  },
  {
   "cell_type": "code",
   "execution_count": 124,
   "metadata": {},
   "outputs": [
    {
     "name": "stdout",
     "output_type": "stream",
     "text": [
      "Evaluate model against unsen data\n",
      "score model 1 accuracy: 80.00%\n",
      "score model 2 accuracy: 82.22%\n",
      "score model 3 accuracy: 77.78%\n"
     ]
    }
   ],
   "source": [
    "### Evaluate final models against the unseen test data and labels\n",
    "##  if the \n",
    "print(\"Evaluate model against unsen data\")\n",
    "score = model1.evaluate(test_data, test_labels, verbose=0)\n",
    "score2 = model2.evaluate(test_data, test_labels, verbose=0)\n",
    "score3 = model3.evaluate(test_data, test_labels, verbose=0)\n",
    "print(\"score model 1 %s: %.2f%%\" % (model1.metrics_names[1], score[1]*100))\n",
    "print(\"score model 2 %s: %.2f%%\" % (model2.metrics_names[1], score2[1]*100))\n",
    "print(\"score model 3 %s: %.2f%%\" % (model3.metrics_names[1], score3[1]*100))"
   ]
  },
  {
   "cell_type": "markdown",
   "metadata": {},
   "source": [
    "## Results\n",
    "Having tested several different models of neural networks we find that the best results were achieved using a model with one hidden layer in addition to input and output layers.  We also found that the sigmoid activation function gives aout the best results. The amount of epochs was optimal in the range of 50-100 epochs with a batch size of 6 or 30. A model consisting of input layer, hidden layer and outputlayer all utilizing sigmoid activation function, adam optimizer and training with 100 epoch / 6 n batch gave us a highscore of having a  accuracy of 91,67%. To our surprise, the most simplest model, model 1 was also capable of hittin over 80 % accuracy levels. The one utilizing relu was found to be the worst in performance for this particular case. However, the data set is a bit too little to efficiently asses which model is the best. We would't be offering these models to include in Apotti with this stage of developement."
   ]
  },
  {
   "cell_type": "markdown",
   "metadata": {},
   "source": [
    "## Sources:\n",
    "1. Jason Brownlee 2019. How to Choose Loss Functions When Training Deep Learning Neural Networks. Machine Learning Mastery website. Available at: https://machinelearningmastery.com/how-to-choose-loss-functions-when-training-deep-learning-neural-networks/ <br>\n",
    "2. Jason Brownlee 2019. How to Control the Stability of Training Neural Networks With the Batch Size. Machine Learning Mastery website. Available at: https://machinelearningmastery.com/how-to-control-the-speed-and-stability-of-training-neural-networks-with-gradient-descent-batch-size/ <br>"
   ]
  },
  {
   "cell_type": "code",
   "execution_count": null,
   "metadata": {},
   "outputs": [],
   "source": []
  }
 ],
 "metadata": {
  "kernelspec": {
   "display_name": "Python 3",
   "language": "python",
   "name": "python3"
  },
  "language_info": {
   "codemirror_mode": {
    "name": "ipython",
    "version": 3
   },
   "file_extension": ".py",
   "mimetype": "text/x-python",
   "name": "python",
   "nbconvert_exporter": "python",
   "pygments_lexer": "ipython3",
   "version": "3.7.4"
  }
 },
 "nbformat": 4,
 "nbformat_minor": 2
}
