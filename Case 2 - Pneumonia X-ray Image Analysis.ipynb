{
 "cells": [
  {
   "cell_type": "markdown",
   "metadata": {
    "toc": true
   },
   "source": [
    "<h1>Table of Contents<span class=\"tocSkip\"></span></h1>\n",
    "<div class=\"toc\"><ul class=\"toc-item\"><li><span><a href=\"# Case 2 - Pneumonia X-ray Image Analysis\" data-toc-modified-id=\"Case-X.-Template-1\"><span class=\"toc-item-num\">1&nbsp;&nbsp;</span>Case X. Template</a></span></li><li><span><a href=\"#Background\" data-toc-modified-id=\"Background-2\"><span class=\"toc-item-num\">2&nbsp;&nbsp;</span>Background</a></span></li><li><span><a href=\"#Data\" data-toc-modified-id=\"Data-3\"><span class=\"toc-item-num\">3&nbsp;&nbsp;</span>Data</a></span></li><li><span><a href=\"#Modes-and-training\" data-toc-modified-id=\"Modes-and-training-4\"><span class=\"toc-item-num\">4&nbsp;&nbsp;</span>Modes and training</a></span></li><li><span><a href=\"#Results-and-Discussion\" data-toc-modified-id=\"Results-and-Discussion-5\"><span class=\"toc-item-num\">5&nbsp;&nbsp;</span>Results and Discussion</a></span></li><li><span><a href=\"#Conclusions\" data-toc-modified-id=\"Conclusions-6\"><span class=\"toc-item-num\">6&nbsp;&nbsp;</span>Conclusions</a></span></li></ul></div>"
   ]
  },
  {
   "cell_type": "markdown",
   "metadata": {},
   "source": [
    "# Case 2 - Pneumonia X-ray Image Analysis\n",
    "Samuel Räsänen, Arttu Sundell, Jari Putaansuu<br>\n",
    "Neural Networks for Health Technology Applications<br>\n",
    "[Helsinki Metropolia University of Applied Sciences](http://www.metropolia.fi/en/)<br>\n",
    "13.02.2020<br>"
   ]
  },
  {
   "cell_type": "markdown",
   "metadata": {},
   "source": [
    "# Background"
   ]
  },
  {
   "cell_type": "markdown",
   "metadata": {},
   "source": [
    "The aim of this Notebook is ..."
   ]
  },
  {
   "cell_type": "markdown",
   "metadata": {},
   "source": [
    "# Data"
   ]
  },
  {
   "cell_type": "markdown",
   "metadata": {},
   "source": [
    "The data contained ..."
   ]
  },
  {
   "cell_type": "code",
   "execution_count": null,
   "metadata": {},
   "outputs": [],
   "source": [
    "%pylab inline\n",
    "from tensorflow import keras\n",
    "from tensorflow.keras import layers, models, optimizers\n",
    "from tensorflow.keras.preprocessing.image import ImageDataGenerator"
   ]
  },
  {
   "cell_type": "code",
   "execution_count": null,
   "metadata": {
    "scrolled": true
   },
   "outputs": [],
   "source": [
    "train_dir = \"./ChestXRay2017/chest_xray/train\"\n",
    "import os\n",
    "os.listdir(train_dir)"
   ]
  },
  {
   "cell_type": "code",
   "execution_count": null,
   "metadata": {},
   "outputs": [],
   "source": [
    "# All images will be rescaled by 1./255\n",
    "# The data is split to training and validation sets\n",
    "# Training data = 80%\n",
    "# Validation data = 20% (validation split = 0.2)\n",
    "# https://keras.io/preprocessing/image\n",
    "\n",
    "train_datagen = ImageDataGenerator(rescale=1./255, validation_split = 0.2)"
   ]
  },
  {
   "cell_type": "code",
   "execution_count": null,
   "metadata": {},
   "outputs": [],
   "source": [
    "train_generator = train_datagen.flow_from_directory(\n",
    "    #this is the target directory\n",
    "    train_dir,\n",
    "    \n",
    "    #All images will be resized to 150x150\n",
    "    target_size = (150, 150),\n",
    "    \n",
    "    #We read images in batches\n",
    "    batch_size = 16,\n",
    "    \n",
    "    #Create binary labels\n",
    "    class_mode = 'binary',\n",
    "    \n",
    "    #This will be the training set\n",
    "    subset = \"training\")\n",
    "\n",
    "dev_generator = train_datagen.flow_from_directory(\n",
    "    train_dir,\n",
    "    target_size = (150, 150),\n",
    "    batch_size = 16,\n",
    "    class_mode = 'binary',\n",
    "    subset = \"validation\")"
   ]
  },
  {
   "cell_type": "code",
   "execution_count": null,
   "metadata": {},
   "outputs": [],
   "source": [
    "# Test that the generator works\n",
    "\n",
    "i = 0\n",
    "for data_batch, labels_batch in train_generator:\n",
    "    print('data batch shape: ', data_batch.shape)\n",
    "    print('labels batch shape: ', labels_batch.shape)\n",
    "    i = i+1\n",
    "    if i > 5:\n",
    "        break"
   ]
  },
  {
   "cell_type": "code",
   "execution_count": null,
   "metadata": {},
   "outputs": [],
   "source": [
    "# Check the first image from the batch\n",
    "# Notice that the image has been now resized to 150 x 150 pixels\n",
    "\n",
    "imshow(data_batch[0])\n",
    "show()\n",
    "\n",
    "# Check the last labels batch\n",
    "\n",
    "labels_batch"
   ]
  },
  {
   "cell_type": "code",
   "execution_count": null,
   "metadata": {},
   "outputs": [],
   "source": [
    "# Generating the test set\n",
    "\n",
    "test_dir = \"./ChestXRay2017/chest_xray/test\" \n",
    "import os\n",
    "os.listdir(test_dir)\n",
    "\n",
    "test_datagen = ImageDataGenerator(rescale=1./255)\n",
    "\n",
    "test_generator = test_datagen.flow_from_directory(\n",
    "    #this is the target directory\n",
    "    test_dir,\n",
    "    \n",
    "    #All images will be resized to 150x150\n",
    "    target_size = (150, 150),\n",
    "    \n",
    "    #We read images in batches\n",
    "    batch_size = 16,\n",
    "    \n",
    "    #Create binary labels\n",
    "    class_mode = 'binary')"
   ]
  },
  {
   "cell_type": "markdown",
   "metadata": {},
   "source": [
    "# Modes and training"
   ]
  },
  {
   "cell_type": "markdown",
   "metadata": {},
   "source": [
    "The following models were used ..."
   ]
  },
  {
   "cell_type": "code",
   "execution_count": null,
   "metadata": {},
   "outputs": [],
   "source": [
    "# Build a simple convolutional neural network (CNN)\n",
    "\n",
    "model = models.Sequential()\n",
    "model.add(layers.Conv2D(32, (3, 3), activation = 'relu', input_shape = (150, 150, 3)))\n",
    "model.add(layers.MaxPooling2D((2, 2)))\n",
    "model.add(layers.Conv2D(32, (3, 3), activation = 'relu'))\n",
    "model.add(layers.MaxPooling2D((2, 2)))\n",
    "model.add(layers.Conv2D(32, (3, 3), activation = 'relu'))\n",
    "model.add(layers.MaxPooling2D((2, 2)))\n",
    "model.add(layers.Conv2D(32, (3, 3), activation = 'relu'))\n",
    "model.add(layers.MaxPooling2D((2, 2)))\n",
    "model.add(layers.Flatten())\n",
    "model.add(layers.Dense(512, activation = 'relu'))\n",
    "#model.add(layers.Dropout(0.5))\n",
    "model.add(layers.Dense(256, activation = 'relu'))\n",
    "#model.add(layers.Dropout(0.3))\n",
    "model.add(layers.Dense(1, activation = 'sigmoid'))\n",
    "\n",
    "model.summary()\n",
    "\n",
    "# Let's use slower learning rate than the default rate\n",
    "# https://keras.io/optimizers\n",
    "\n",
    "model.compile(loss = 'binary_crossentropy', optimizer = optimizers.RMSprop (lr = 1e-4), metrics = ['acc'])"
   ]
  },
  {
   "cell_type": "code",
   "execution_count": null,
   "metadata": {},
   "outputs": [],
   "source": [
    "## Train the network with the training and validation data\n",
    "# Reading all batches per epoch (steps_per_epoch = None) using all 4187 images\n",
    "# modifying steps_per_epoch = 10 would result in reading only 10 batches per epoch (10x16 = 160 images per epoch)\n",
    "\n",
    "# https://keras.io/models/sequential/#fit_generator\n",
    "\n",
    "history = model.fit_generator(\n",
    "    train_generator,\n",
    "    steps_per_epoch = None,\n",
    "    verbose = 1,\n",
    "    epochs = 10,\n",
    "    validation_data = dev_generator,\n",
    "    validation_steps = None)\n",
    "\n",
    "# save the model\n",
    "model.save('case_2_run_1.h5')"
   ]
  },
  {
   "cell_type": "markdown",
   "metadata": {},
   "source": [
    "# Results and Discussion"
   ]
  },
  {
   "cell_type": "markdown",
   "metadata": {},
   "source": [
    "The following results were achieved ..."
   ]
  },
  {
   "cell_type": "code",
   "execution_count": null,
   "metadata": {},
   "outputs": [],
   "source": [
    "# Check the accuracy and loss graphs for the training done\n",
    "\n",
    "acc = history.history['acc']\n",
    "val_acc = history.history['val_acc']\n",
    "loss = history.history['loss']\n",
    "val_loss = history.history['val_loss']\n",
    "epochs = range(len(acc))\n",
    "\n",
    "plot(epochs, acc, 'bo-', label = \"Training accuracy\")\n",
    "plot(epochs, val_acc, 'r*-', label = \"Validation accuracy\")\n",
    "title('Training and validation accuracy')\n",
    "grid()\n",
    "legend()\n",
    "\n",
    "figure()\n",
    "plot(epochs, loss, 'bo-', label = \"Training loss\")\n",
    "plot(epochs, val_loss, 'r*-', label = \"Validation loss\")\n",
    "title('Training and validation loss')\n",
    "grid()\n",
    "legend()\n",
    "\n",
    "show()"
   ]
  },
  {
   "cell_type": "code",
   "execution_count": null,
   "metadata": {},
   "outputs": [],
   "source": [
    "## Test the model accuracy with unseen test data (test_generator)\n",
    "\n",
    "loss, acc = model.evaluate_generator(test_generator, verbose=1)"
   ]
  },
  {
   "cell_type": "markdown",
   "metadata": {},
   "source": [
    "# Conclusions"
   ]
  },
  {
   "cell_type": "markdown",
   "metadata": {},
   "source": [
    "To summarize we found out that ..."
   ]
  }
 ],
 "metadata": {
  "kernelspec": {
   "display_name": "Python 3",
   "language": "python",
   "name": "python3"
  },
  "language_info": {
   "codemirror_mode": {
    "name": "ipython",
    "version": 3
   },
   "file_extension": ".py",
   "mimetype": "text/x-python",
   "name": "python",
   "nbconvert_exporter": "python",
   "pygments_lexer": "ipython3",
   "version": "3.7.4"
  },
  "toc": {
   "base_numbering": 1,
   "nav_menu": {},
   "number_sections": true,
   "sideBar": true,
   "skip_h1_title": false,
   "title_cell": "Table of Contents",
   "title_sidebar": "Contents",
   "toc_cell": true,
   "toc_position": {},
   "toc_section_display": true,
   "toc_window_display": false
  }
 },
 "nbformat": 4,
 "nbformat_minor": 2
}
