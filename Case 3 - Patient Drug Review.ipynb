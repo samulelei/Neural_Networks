{
 "cells": [
  {
   "cell_type": "markdown",
   "metadata": {},
   "source": [
    "<h1>Table of Contents<span class=\"tocSkip\"></span></h1>\n",
    "<div class=\"toc\"><ul class=\"toc-item\"><li><span><a href=\"#Case-X.-Template\" data-toc-modified-id=\"Case-X.-Template-1\"><span class=\"toc-item-num\">1&nbsp;&nbsp;</span>Case 3: Patient Drug Review</a></span></li><li><span><a href=\"#Background\" data-toc-modified-id=\"Background-2\"><span class=\"toc-item-num\">2&nbsp;&nbsp;</span>Background</a></span></li><li><span><a href=\"#Data\" data-toc-modified-id=\"Data-3\"><span class=\"toc-item-num\">3&nbsp;&nbsp;</span>Data</a></span></li><li><span><a href=\"#Modes-and-training\" data-toc-modified-id=\"Modes-and-training-4\"><span class=\"toc-item-num\">4&nbsp;&nbsp;</span>Modes and training</a></span></li><li><span><a href=\"#Results-and-Discussion\" data-toc-modified-id=\"Results-and-Discussion-5\"><span class=\"toc-item-num\">5&nbsp;&nbsp;</span>Results and Discussion</a></span></li><li><span><a href=\"#Conclusions\" data-toc-modified-id=\"Conclusions-6\"><span class=\"toc-item-num\">6&nbsp;&nbsp;</span>Conclusions</a></span></li></ul></div>"
   ]
  },
  {
   "cell_type": "markdown",
   "metadata": {},
   "source": [
    "# Case 3: Patient Drug Review\n",
    "Team 12: Jari Putaansuu, Samuel Räsänen and Arttu Sundell<br>\n",
    "Last edited: 19.03.2020<br>\n",
    "Neural Networks for Health Technology Applications<br>\n",
    "[Helsinki Metropolia University of Applied Sciences](http://www.metropolia.fi/en/)<br>"
   ]
  },
  {
   "cell_type": "markdown",
   "metadata": {},
   "source": [
    "# 2. Background"
   ]
  },
  {
   "cell_type": "markdown",
   "metadata": {},
   "source": [
    "The main aim is to create a classifier that predicts the the rating (from 1 to 10) of a drug based on the given review. The predictions are simplified by splitting them into three sentimental categories: \n",
    "\n",
    "* negative (ratings 1, 2, 3, 4)\n",
    "* neutral (ratings 5 and 6)\n",
    "* positive (ratings 7, 8, 9, 10)"
   ]
  },
  {
   "cell_type": "markdown",
   "metadata": {},
   "source": [
    "## Tools (library imports)"
   ]
  },
  {
   "cell_type": "code",
   "execution_count": 1,
   "metadata": {},
   "outputs": [
    {
     "name": "stderr",
     "output_type": "stream",
     "text": [
      "Using TensorFlow backend.\n"
     ]
    }
   ],
   "source": [
    "## Basic tools for data processing and visualizations and \n",
    "import numpy as np # linear algebra\n",
    "import pandas as pd # data processing\n",
    "import matplotlib.pyplot as plt # a comprehensive library for data visualization\n",
    "import os # functions for interacting with the operating system\n",
    "import tensorflow as tf\n",
    "from sklearn.model_selection import train_test_split # preprocessing datasets\n",
    "from tensorflow.keras.utils import to_categorical #create one-hot-encoded output\n",
    "from sklearn.utils import class_weight #calculate class weights for training using the labels\n",
    "\n",
    "## Tools for building Recurrent Neural Networks applied in this project\n",
    "from tensorflow.keras import preprocessing\n",
    "from tensorflow.keras.preprocessing.text import Tokenizer #A text tokenizer to vectorize a text corpus\n",
    "from tensorflow.keras.utils import to_categorical #Converts a class vector (integers) to binary class matrix\n",
    "from tensorflow.keras.models import Sequential #Sequential model methods\n",
    "from tensorflow.keras import layers, models, optimizers\n",
    "from tensorflow.keras.layers import Embedding, Flatten, Dense, SimpleRNN, Activation, Embedding, LSTM, Bidirectional #The applicable layers used in RNN model\n",
    "from sklearn.metrics import confusion_matrix, classification_report, cohen_kappa_score # final metrics\n",
    "from keras.callbacks.callbacks import EarlyStopping # to monitor training and stop when metrics stop improving\n",
    "\n",
    "## Extra tools needed for review data preprocessing\n",
    "from nltk.corpus import stopwords\n",
    "from nltk.stem import WordNetLemmatizer\n",
    "from nltk.tokenize import word_tokenize\n"
   ]
  },
  {
   "cell_type": "markdown",
   "metadata": {},
   "source": [
    "# 3. Data"
   ]
  },
  {
   "cell_type": "markdown",
   "metadata": {},
   "source": [
    "The dataset consists of patient reviews on specific drugs along with related conditions and a 10 star patient rating reflecting overall patient satisfaction. It also contain the number of users who found review useful. The data was obtained by crawling online pharmaceutical review sites.<br>\n",
    "<br>\n",
    "The data has six attributes: \n",
    "1. drugName (categorical): name of drug\n",
    "2. condition (categorical): name of condition\n",
    "3. review (text): patient review\n",
    "4. rating (numerical): 10 star patient rating\n",
    "5. date (date): date of review entry\n",
    "6. usefulCount (numerical): number of users who found review useful<br>\n",
    "\n",
    "The data is split into a train (75%) a test (25%) partition (see publication) and stored in two .tsv (tab-separated-values) files, respectively. \n",
    "\n",
    "The dataset was originally published on the UCI Machine Learning repository\n",
    "*Felix Gräßer, Surya Kallumadi, Hagen Malberg, and Sebastian Zaunseder. 2018. Aspect-Based Sentiment Analysis of Drug Reviews Applying Cross-Domain and Cross-Data Learning. In Proceedings of the 2018 International Conference on Digital Health (DH '18). ACM, New York, NY, USA, 121-125*."
   ]
  },
  {
   "cell_type": "code",
   "execution_count": 2,
   "metadata": {
    "_cell_guid": "",
    "_uuid": ""
   },
   "outputs": [],
   "source": [
    "#Reading the data into traindata and testdata\n",
    "traindata = pd.read_csv(\"../input/kuc-hackathon-winter-2018/drugsComTrain_raw.csv\") # 75% trainfraction\n",
    "testdata = pd.read_csv(\"../input/kuc-hackathon-winter-2018/drugsComTest_raw.csv\") # 25% testfraction"
   ]
  },
  {
   "cell_type": "code",
   "execution_count": 3,
   "metadata": {},
   "outputs": [
    {
     "data": {
      "text/html": [
       "<div>\n",
       "<style scoped>\n",
       "    .dataframe tbody tr th:only-of-type {\n",
       "        vertical-align: middle;\n",
       "    }\n",
       "\n",
       "    .dataframe tbody tr th {\n",
       "        vertical-align: top;\n",
       "    }\n",
       "\n",
       "    .dataframe thead th {\n",
       "        text-align: right;\n",
       "    }\n",
       "</style>\n",
       "<table border=\"1\" class=\"dataframe\">\n",
       "  <thead>\n",
       "    <tr style=\"text-align: right;\">\n",
       "      <th></th>\n",
       "      <th>uniqueID</th>\n",
       "      <th>drugName</th>\n",
       "      <th>condition</th>\n",
       "      <th>review</th>\n",
       "      <th>rating</th>\n",
       "      <th>date</th>\n",
       "      <th>usefulCount</th>\n",
       "    </tr>\n",
       "  </thead>\n",
       "  <tbody>\n",
       "    <tr>\n",
       "      <th>161292</th>\n",
       "      <td>191035</td>\n",
       "      <td>Campral</td>\n",
       "      <td>Alcohol Dependence</td>\n",
       "      <td>\"I wrote my first report in Mid-October of 201...</td>\n",
       "      <td>10</td>\n",
       "      <td>31-May-15</td>\n",
       "      <td>125</td>\n",
       "    </tr>\n",
       "    <tr>\n",
       "      <th>161293</th>\n",
       "      <td>127085</td>\n",
       "      <td>Metoclopramide</td>\n",
       "      <td>Nausea/Vomiting</td>\n",
       "      <td>\"I was given this in IV before surgey. I immed...</td>\n",
       "      <td>1</td>\n",
       "      <td>1-Nov-11</td>\n",
       "      <td>34</td>\n",
       "    </tr>\n",
       "    <tr>\n",
       "      <th>161294</th>\n",
       "      <td>187382</td>\n",
       "      <td>Orencia</td>\n",
       "      <td>Rheumatoid Arthritis</td>\n",
       "      <td>\"Limited improvement after 4 months, developed...</td>\n",
       "      <td>2</td>\n",
       "      <td>15-Mar-14</td>\n",
       "      <td>35</td>\n",
       "    </tr>\n",
       "    <tr>\n",
       "      <th>161295</th>\n",
       "      <td>47128</td>\n",
       "      <td>Thyroid desiccated</td>\n",
       "      <td>Underactive Thyroid</td>\n",
       "      <td>\"I&amp;#039;ve been on thyroid medication 49 years...</td>\n",
       "      <td>10</td>\n",
       "      <td>19-Sep-15</td>\n",
       "      <td>79</td>\n",
       "    </tr>\n",
       "    <tr>\n",
       "      <th>161296</th>\n",
       "      <td>215220</td>\n",
       "      <td>Lubiprostone</td>\n",
       "      <td>Constipation, Chronic</td>\n",
       "      <td>\"I&amp;#039;ve had chronic constipation all my adu...</td>\n",
       "      <td>9</td>\n",
       "      <td>13-Dec-14</td>\n",
       "      <td>116</td>\n",
       "    </tr>\n",
       "  </tbody>\n",
       "</table>\n",
       "</div>"
      ],
      "text/plain": [
       "        uniqueID            drugName              condition  \\\n",
       "161292    191035             Campral     Alcohol Dependence   \n",
       "161293    127085      Metoclopramide        Nausea/Vomiting   \n",
       "161294    187382             Orencia   Rheumatoid Arthritis   \n",
       "161295     47128  Thyroid desiccated    Underactive Thyroid   \n",
       "161296    215220        Lubiprostone  Constipation, Chronic   \n",
       "\n",
       "                                                   review  rating       date  \\\n",
       "161292  \"I wrote my first report in Mid-October of 201...      10  31-May-15   \n",
       "161293  \"I was given this in IV before surgey. I immed...       1   1-Nov-11   \n",
       "161294  \"Limited improvement after 4 months, developed...       2  15-Mar-14   \n",
       "161295  \"I&#039;ve been on thyroid medication 49 years...      10  19-Sep-15   \n",
       "161296  \"I&#039;ve had chronic constipation all my adu...       9  13-Dec-14   \n",
       "\n",
       "        usefulCount  \n",
       "161292          125  \n",
       "161293           34  \n",
       "161294           35  \n",
       "161295           79  \n",
       "161296          116  "
      ]
     },
     "execution_count": 3,
     "metadata": {},
     "output_type": "execute_result"
    }
   ],
   "source": [
    "# Examining the data layout\n",
    "\n",
    "traindata.tail()"
   ]
  },
  {
   "cell_type": "markdown",
   "metadata": {},
   "source": [
    "## Preprocessing the review data"
   ]
  },
  {
   "cell_type": "code",
   "execution_count": 4,
   "metadata": {},
   "outputs": [
    {
     "data": {
      "text/html": [
       "<div>\n",
       "<style scoped>\n",
       "    .dataframe tbody tr th:only-of-type {\n",
       "        vertical-align: middle;\n",
       "    }\n",
       "\n",
       "    .dataframe tbody tr th {\n",
       "        vertical-align: top;\n",
       "    }\n",
       "\n",
       "    .dataframe thead th {\n",
       "        text-align: right;\n",
       "    }\n",
       "</style>\n",
       "<table border=\"1\" class=\"dataframe\">\n",
       "  <thead>\n",
       "    <tr style=\"text-align: right;\">\n",
       "      <th></th>\n",
       "      <th>uniqueID</th>\n",
       "      <th>drugName</th>\n",
       "      <th>condition</th>\n",
       "      <th>review</th>\n",
       "      <th>rating</th>\n",
       "      <th>date</th>\n",
       "      <th>usefulCount</th>\n",
       "    </tr>\n",
       "  </thead>\n",
       "  <tbody>\n",
       "    <tr>\n",
       "      <th>161292</th>\n",
       "      <td>191035</td>\n",
       "      <td>Campral</td>\n",
       "      <td>Alcohol Dependence</td>\n",
       "      <td>i wrote my first report in mid october of i h...</td>\n",
       "      <td>10</td>\n",
       "      <td>31-May-15</td>\n",
       "      <td>125</td>\n",
       "    </tr>\n",
       "    <tr>\n",
       "      <th>161293</th>\n",
       "      <td>127085</td>\n",
       "      <td>Metoclopramide</td>\n",
       "      <td>Nausea/Vomiting</td>\n",
       "      <td>i was given this in iv before surgey i immedi...</td>\n",
       "      <td>1</td>\n",
       "      <td>1-Nov-11</td>\n",
       "      <td>34</td>\n",
       "    </tr>\n",
       "    <tr>\n",
       "      <th>161294</th>\n",
       "      <td>187382</td>\n",
       "      <td>Orencia</td>\n",
       "      <td>Rheumatoid Arthritis</td>\n",
       "      <td>limited improvement after months developed ba...</td>\n",
       "      <td>2</td>\n",
       "      <td>15-Mar-14</td>\n",
       "      <td>35</td>\n",
       "    </tr>\n",
       "    <tr>\n",
       "      <th>161295</th>\n",
       "      <td>47128</td>\n",
       "      <td>Thyroid desiccated</td>\n",
       "      <td>Underactive Thyroid</td>\n",
       "      <td>i ve been on thyroid medication years i spent...</td>\n",
       "      <td>10</td>\n",
       "      <td>19-Sep-15</td>\n",
       "      <td>79</td>\n",
       "    </tr>\n",
       "    <tr>\n",
       "      <th>161296</th>\n",
       "      <td>215220</td>\n",
       "      <td>Lubiprostone</td>\n",
       "      <td>Constipation, Chronic</td>\n",
       "      <td>i ve had chronic constipation all my adult li...</td>\n",
       "      <td>9</td>\n",
       "      <td>13-Dec-14</td>\n",
       "      <td>116</td>\n",
       "    </tr>\n",
       "  </tbody>\n",
       "</table>\n",
       "</div>"
      ],
      "text/plain": [
       "        uniqueID            drugName              condition  \\\n",
       "161292    191035             Campral     Alcohol Dependence   \n",
       "161293    127085      Metoclopramide        Nausea/Vomiting   \n",
       "161294    187382             Orencia   Rheumatoid Arthritis   \n",
       "161295     47128  Thyroid desiccated    Underactive Thyroid   \n",
       "161296    215220        Lubiprostone  Constipation, Chronic   \n",
       "\n",
       "                                                   review  rating       date  \\\n",
       "161292   i wrote my first report in mid october of i h...      10  31-May-15   \n",
       "161293   i was given this in iv before surgey i immedi...       1   1-Nov-11   \n",
       "161294   limited improvement after months developed ba...       2  15-Mar-14   \n",
       "161295   i ve been on thyroid medication years i spent...      10  19-Sep-15   \n",
       "161296   i ve had chronic constipation all my adult li...       9  13-Dec-14   \n",
       "\n",
       "        usefulCount  \n",
       "161292          125  \n",
       "161293           34  \n",
       "161294           35  \n",
       "161295           79  \n",
       "161296          116  "
      ]
     },
     "execution_count": 4,
     "metadata": {},
     "output_type": "execute_result"
    }
   ],
   "source": [
    "# Preprocessing the used review column data\n",
    "\n",
    "# Removing unnecessary words and numbers from train data\n",
    "traindata['review'] = traindata['review'].str.replace(r\"[^a-z'A-Z]+\", \" \") #removing everything else except letters\n",
    "traindata['review'] = traindata['review'].str.replace('&#039;', \"'\") #removing HTML from the data\n",
    "traindata['review'] = traindata['review'].str.replace('&\\w+;',' ') #removing special letters\n",
    "\n",
    "# Removing unnecessary words and numbers from test data\n",
    "testdata['review'] = testdata['review'].str.replace(r\"[^a-z'A-Z]+\", \" \")\n",
    "testdata['review'] = testdata['review'].str.replace('&#039;', \"'\") \n",
    "testdata['review'] = testdata['review'].str.replace('&\\w+;',' ') \n",
    "\n",
    "# Transforming all letters to lowercase for train and test sets\n",
    "traindata['review'] = traindata['review'].map(lambda x: x.lower())\n",
    "testdata['review'] = testdata['review'].map(lambda x: x.lower())\n",
    "\n",
    "# Test print same columns than in the cell above to see if the data is now more usable\n",
    "traindata.tail()"
   ]
  },
  {
   "cell_type": "markdown",
   "metadata": {},
   "source": [
    "The data now looks more usable. We decided to use use lemmatization to convert the used verbs into their root form to reduce dimensions of the vocabulary & remove the stopwords before tokenizing the data to improve the quality of the vocabulary."
   ]
  },
  {
   "cell_type": "code",
   "execution_count": 5,
   "metadata": {},
   "outputs": [],
   "source": [
    "## Lemmatizing words in reviews to recude the amount of different expressions with identical sentimental value\n",
    "\n",
    "lemmatizer=WordNetLemmatizer()\n",
    "\n",
    "# lemmatizing verbs in train and test reviews\n",
    "traindata['review'] = traindata['review'].map(lambda x: ' '.join(lemmatizer.lemmatize(word, pos=\"v\") for word in word_tokenize(x)))\n",
    "testdata['review'] = testdata['review'].map(lambda x: ' '.join(lemmatizer.lemmatize(word, pos=\"v\") for word in word_tokenize(x)))\n",
    "\n",
    "# lemmatizing nouns in train and test reviews\n",
    "traindata['review'] = traindata['review'].map(lambda x: ' '.join(lemmatizer.lemmatize(word, pos=\"n\") for word in word_tokenize(x)))\n",
    "testdata['review'] = testdata['review'].map(lambda x: ' '.join(lemmatizer.lemmatize(word, pos=\"n\") for word in word_tokenize(x)))"
   ]
  },
  {
   "cell_type": "code",
   "execution_count": 6,
   "metadata": {},
   "outputs": [],
   "source": [
    "## Removing unnecessary stopwords from reviews which have no sentimental predictive value\n",
    "\n",
    "# Selecting the english language stopwords to be used for filtering the text\n",
    "stopwords = stopwords.words('english')\n",
    "\n",
    "# Removing english stopwords from both train and test data\n",
    "traindata['review'] = traindata['review'].map(lambda x: ' '.join(word for word in word_tokenize(x) if word not in stopwords))\n",
    "testdata['review'] = testdata['review'].map(lambda x: ' '.join(word for word in word_tokenize(x) if word not in stopwords))"
   ]
  },
  {
   "cell_type": "code",
   "execution_count": 7,
   "metadata": {},
   "outputs": [
    {
     "data": {
      "text/html": [
       "<div>\n",
       "<style scoped>\n",
       "    .dataframe tbody tr th:only-of-type {\n",
       "        vertical-align: middle;\n",
       "    }\n",
       "\n",
       "    .dataframe tbody tr th {\n",
       "        vertical-align: top;\n",
       "    }\n",
       "\n",
       "    .dataframe thead th {\n",
       "        text-align: right;\n",
       "    }\n",
       "</style>\n",
       "<table border=\"1\" class=\"dataframe\">\n",
       "  <thead>\n",
       "    <tr style=\"text-align: right;\">\n",
       "      <th></th>\n",
       "      <th>uniqueID</th>\n",
       "      <th>drugName</th>\n",
       "      <th>condition</th>\n",
       "      <th>review</th>\n",
       "      <th>rating</th>\n",
       "      <th>date</th>\n",
       "      <th>usefulCount</th>\n",
       "    </tr>\n",
       "  </thead>\n",
       "  <tbody>\n",
       "    <tr>\n",
       "      <th>161292</th>\n",
       "      <td>191035</td>\n",
       "      <td>Campral</td>\n",
       "      <td>Alcohol Dependence</td>\n",
       "      <td>write first report mid october alcohol since p...</td>\n",
       "      <td>10</td>\n",
       "      <td>31-May-15</td>\n",
       "      <td>125</td>\n",
       "    </tr>\n",
       "    <tr>\n",
       "      <th>161293</th>\n",
       "      <td>127085</td>\n",
       "      <td>Metoclopramide</td>\n",
       "      <td>Nausea/Vomiting</td>\n",
       "      <td>give iv surgey immediately become anxious coul...</td>\n",
       "      <td>1</td>\n",
       "      <td>1-Nov-11</td>\n",
       "      <td>34</td>\n",
       "    </tr>\n",
       "    <tr>\n",
       "      <th>161294</th>\n",
       "      <td>187382</td>\n",
       "      <td>Orencia</td>\n",
       "      <td>Rheumatoid Arthritis</td>\n",
       "      <td>limit improvement month develop bad rash md re...</td>\n",
       "      <td>2</td>\n",
       "      <td>15-Mar-14</td>\n",
       "      <td>35</td>\n",
       "    </tr>\n",
       "    <tr>\n",
       "      <th>161295</th>\n",
       "      <td>47128</td>\n",
       "      <td>Thyroid desiccated</td>\n",
       "      <td>Underactive Thyroid</td>\n",
       "      <td>thyroid medication year spend first synthroid ...</td>\n",
       "      <td>10</td>\n",
       "      <td>19-Sep-15</td>\n",
       "      <td>79</td>\n",
       "    </tr>\n",
       "    <tr>\n",
       "      <th>161296</th>\n",
       "      <td>215220</td>\n",
       "      <td>Lubiprostone</td>\n",
       "      <td>Constipation, Chronic</td>\n",
       "      <td>chronic constipation adult life try linz work ...</td>\n",
       "      <td>9</td>\n",
       "      <td>13-Dec-14</td>\n",
       "      <td>116</td>\n",
       "    </tr>\n",
       "  </tbody>\n",
       "</table>\n",
       "</div>"
      ],
      "text/plain": [
       "        uniqueID            drugName              condition  \\\n",
       "161292    191035             Campral     Alcohol Dependence   \n",
       "161293    127085      Metoclopramide        Nausea/Vomiting   \n",
       "161294    187382             Orencia   Rheumatoid Arthritis   \n",
       "161295     47128  Thyroid desiccated    Underactive Thyroid   \n",
       "161296    215220        Lubiprostone  Constipation, Chronic   \n",
       "\n",
       "                                                   review  rating       date  \\\n",
       "161292  write first report mid october alcohol since p...      10  31-May-15   \n",
       "161293  give iv surgey immediately become anxious coul...       1   1-Nov-11   \n",
       "161294  limit improvement month develop bad rash md re...       2  15-Mar-14   \n",
       "161295  thyroid medication year spend first synthroid ...      10  19-Sep-15   \n",
       "161296  chronic constipation adult life try linz work ...       9  13-Dec-14   \n",
       "\n",
       "        usefulCount  \n",
       "161292          125  \n",
       "161293           34  \n",
       "161294           35  \n",
       "161295           79  \n",
       "161296          116  "
      ]
     },
     "execution_count": 7,
     "metadata": {},
     "output_type": "execute_result"
    }
   ],
   "source": [
    "# Test print same columns as before to see if the data has a more usable form after processing\n",
    "traindata.tail()"
   ]
  },
  {
   "cell_type": "markdown",
   "metadata": {},
   "source": [
    "Looking at the reviews after preprocessing the words and removing unnecessary features have transformed the reviews into a more usable state for the predictions and helps to avoid adding unnecessary words to the tokenized vocabularies that have a limited amount of space.\n"
   ]
  },
  {
   "cell_type": "markdown",
   "metadata": {},
   "source": [
    "## Splitting the data"
   ]
  },
  {
   "cell_type": "code",
   "execution_count": 8,
   "metadata": {},
   "outputs": [
    {
     "data": {
      "text/plain": [
       "array([2, 0, 0, 2, 2])"
      ]
     },
     "execution_count": 8,
     "metadata": {},
     "output_type": "execute_result"
    }
   ],
   "source": [
    "## Create three categories for ratings (positive, neutral, negative)\n",
    "\n",
    "# label = 2, when rating = 7-10 (positive)\n",
    "# label = 1, when rating = 5-6 (neutral)\n",
    "# label = 0, when rating = 1-4 (negative)\n",
    "\n",
    "# Extracting the explanatory variables (x) and response variables (y=rating)\n",
    "\n",
    "train_x = traindata['review'].values.tolist()\n",
    "train_y = traindata['rating'].values\n",
    "for i in range(len(train_y)):\n",
    "    x = train_y[i]\n",
    "    if x >= 7:\n",
    "        train_y[i]=2 #reviews higher than 6 get labes 2, which stands for positive\n",
    "    elif x > 4:\n",
    "        train_y[i]=1 #reviews higher than 4 but lower than 7 get labes 1, which stands for neutral\n",
    "    else:\n",
    "        train_y[i]=0 #the rest (reviews lower than 5) are labelled 0, and are considered negative\n",
    "\n",
    "test_x = testdata['review'].values.tolist()\n",
    "test_y = testdata['rating'].values\n",
    "for i in range(len(test_y)):\n",
    "    x = test_y[i]\n",
    "    if x >= 7:\n",
    "        test_y[i]=2 \n",
    "    elif x > 4:\n",
    "        test_y[i]=1 \n",
    "    else:\n",
    "        test_y[i]=0 \n",
    "    \n",
    "# Check that the labels are correct by displaying the same tail of traindata as in cells above\n",
    "train_y[161292:]"
   ]
  },
  {
   "cell_type": "markdown",
   "metadata": {},
   "source": [
    "As it seems the labels match the previously introduced ratings, Saul Goodman - moving on to creating a vocabulary and splitting the train data to train and validation sets."
   ]
  },
  {
   "cell_type": "markdown",
   "metadata": {},
   "source": [
    "## Tokenizing input data and one-hot encoding output labels"
   ]
  },
  {
   "cell_type": "code",
   "execution_count": 9,
   "metadata": {},
   "outputs": [
    {
     "name": "stdout",
     "output_type": "stream",
     "text": [
      "Train sequences:\n",
      "[11, 10, 1, 618, 2206, 15, 2494, 1139]\n",
      "\n",
      "Train sequences after padding:\n",
      "[   0    0    0    0    0    0    0    0    0    0    0    0    0    0\n",
      "    0    0    0    0    0    0    0    0    0    0    0    0    0    0\n",
      "    0    0    0    0    0    0    0    0    0    0    0    0    0    0\n",
      "    0    0    0    0    0    0    0    0    0    0    0    0    0    0\n",
      "    0    0    0    0    0    0    0    0    0    0    0    0    0    0\n",
      "    0    0    0    0    0    0    0    0    0    0    0    0    0    0\n",
      "    0    0    0    0    0    0    0    0   11   10    1  618 2206   15\n",
      " 2494 1139]\n"
     ]
    }
   ],
   "source": [
    "## Tokenize the traindata review contents\n",
    "\n",
    "# Initialize Tokenizer\n",
    "tokenizer = Tokenizer(num_words = 5000)\n",
    "tokenizer.fit_on_texts(train_x)\n",
    "\n",
    "# Convert reviews to integer sequences (according to the words indexed in the previous step)\n",
    "train_sequences = tokenizer.texts_to_sequences(train_x)\n",
    "test_sequences = tokenizer.texts_to_sequences(test_x)\n",
    "\n",
    "# Test print\n",
    "print(\"Train sequences:\")\n",
    "print(train_sequences[0])\n",
    "\n",
    "# The reviews are padded to have equal length\n",
    "maxlen = 100\n",
    "train_sequences = preprocessing.sequence.pad_sequences(train_sequences, maxlen = maxlen)\n",
    "test_sequences = preprocessing.sequence.pad_sequences(test_sequences, maxlen = maxlen)\n",
    "\n",
    "# Test print after padding\n",
    "print(\"\\nTrain sequences after padding:\")\n",
    "print(train_sequences[0])"
   ]
  },
  {
   "cell_type": "code",
   "execution_count": 10,
   "metadata": {},
   "outputs": [
    {
     "name": "stdout",
     "output_type": "stream",
     "text": [
      "Labels before one hot encoding:\n",
      "[2 0 0 2 2]\n",
      "\n",
      "After one hot encoding:\n",
      "[[0. 0. 1.]\n",
      " [1. 0. 0.]\n",
      " [1. 0. 0.]\n",
      " [0. 0. 1.]\n",
      " [0. 0. 1.]]\n"
     ]
    }
   ],
   "source": [
    "# One hot encoding train and test labels (y-values)\n",
    "\n",
    "# Test print before one hot encoding\n",
    "print(\"Labels before one hot encoding:\")\n",
    "print(train_y[161292:])\n",
    "\n",
    "train_y = to_categorical(train_y)\n",
    "test_y = to_categorical(test_y)\n",
    "\n",
    "# Test print after one hot encoding\n",
    "print(\"\\nAfter one hot encoding:\")\n",
    "print(train_y[161292:])"
   ]
  },
  {
   "cell_type": "markdown",
   "metadata": {},
   "source": [
    "# 4. Models and training"
   ]
  },
  {
   "cell_type": "markdown",
   "metadata": {},
   "source": [
    "We experimented with different models from simple RNN, also called Vanilla RNN, a long short term memory (LSTM) - model, which is a more comlex model able to remember words further back the in the sentences, and a bidirectional version of LSTM. We were inspired to try out LSTM and bi-LSTM by Pal et al. conference paper, where they applied bi-LSTM to a movie review sentimental analysis, resembling the task at hand. However we decided to make a less deep network (we 2 hidden layer instead of 3 used in the original paper) since more layers ment more burden on the hardware which was more time consuming. Even though there was no huge difference between the models with the small amount of epochs we could try out in the timeframe (RNN/LSTM proved to be very computer costly and time consuming), the bi-LSTM managed to be just a little bit better but we were unable to run enough epochs to make it better than the simpler model.\n",
    "1. Pal, Subarno; Gosh, Sourmandip; Nag, Amitava 2017. SENTIMENT ANALYSIS IN THE LIGHT OF LSTM RECURRENT NEURAL NETWORKS. Conference paper:International Conference on Information Technology and Applied Mathematics. Researchgate scientific publishing platform 2017. Available online at https://www.researchgate.net/publication/326242364_Sentiment_Analysis_in_the_Light_of_LSTM_Recurrent_Neural_Networks"
   ]
  },
  {
   "cell_type": "code",
   "execution_count": 11,
   "metadata": {
    "_cell_guid": "79c7e3d0-c299-4dcb-8224-4455121ee9b0",
    "_uuid": "d629ff2d2480ee46fbb7e2d37f6b5fab8052498a"
   },
   "outputs": [],
   "source": [
    "## Bidirectional LSTM model with Embedding and double biLSTM layers\n",
    "\n",
    "model = Sequential()\n",
    "model.add(Embedding(5000, 16, input_length = maxlen))\n",
    "#NOTE - first bidirectional layer must have return sequences True in order to stack layers\n",
    "model.add(Bidirectional(LSTM(16,dropout=0.2, recurrent_dropout=0.2,return_sequences=True)))\n",
    "model.add(Bidirectional(LSTM(16,dropout=0.2, recurrent_dropout=0.2)))\n",
    "#NOTE - output layer, needs to be the same size as number of classes\n",
    "model.add(Dense(3, activation = 'softmax')) \n",
    "\n",
    "# model.summary() - disabled commit run as the model can be seen in the code cell here as well."
   ]
  },
  {
   "cell_type": "code",
   "execution_count": 12,
   "metadata": {},
   "outputs": [],
   "source": [
    "## Simple LSTM network that was selected to compete with the bidirectional LSTM model\n",
    "\n",
    "# Create a sequential model including Embedding, LSTM and Dense layers\n",
    "simple_model = Sequential()\n",
    "#NOTE - embedding layer to turn positive integers (indexes) into dense vectors of fixed size \"maxlen\" !needs to be the first layer\n",
    "simple_model.add(Embedding(5000, 16, input_length = maxlen))\n",
    "simple_model.add(LSTM(16, dropout = 0.2, recurrent_dropout = 0.2))\n",
    "#NOTE - output layer, needs to be the same size as number of classes\n",
    "simple_model.add(Dense(3, activation = 'softmax')) \n",
    "\n",
    "# simple_model.summary() - disabled commit run as the model can be seen in the code cell here as well."
   ]
  },
  {
   "cell_type": "code",
   "execution_count": 13,
   "metadata": {},
   "outputs": [],
   "source": [
    "# Compiling the models\n",
    "\n",
    "#categorical_crossentropy because of problem being multiclass\n",
    "model.compile(optimizer = 'rmsprop', loss = 'categorical_crossentropy', metrics = ['acc']) \n",
    "simple_model.compile(optimizer = 'rmsprop', loss = 'categorical_crossentropy', metrics = ['acc'])"
   ]
  },
  {
   "cell_type": "code",
   "execution_count": 14,
   "metadata": {},
   "outputs": [],
   "source": [
    "# Training the models by fitting data\n",
    "\n",
    "# Settings for training\n",
    "epochs = 10 # this would be set higher when using callbacks to stop the training as setup\n",
    "patience = 0.1 * epochs\n",
    "callbackmethod = EarlyStopping(monitor='val_loss', mode='min', min_delta=0.01, verbose=1, patience=patience)\n",
    "\n",
    "# Training the model with double biLSTM layers\n",
    "history = model.fit(train_sequences, train_y, \n",
    "                    epochs = epochs,\n",
    "                    batch_size = 32, \n",
    "                    validation_split = 0.2,\n",
    "                    verbose = 0) # hides the training information - set 1 to enable\n",
    "                    #callbacks=[callbackmethod]) - disabled for this run\n",
    "                    #class_weight = dict_class_weights - disabled for this run\n",
    "        \n",
    "# Training the model with a single LSTM layer\n",
    "history_simple = simple_model.fit(train_sequences, train_y, \n",
    "                    epochs = epochs,\n",
    "                    batch_size = 32, \n",
    "                    validation_split = 0.2,\n",
    "                    verbose = 0) # hides the training information - set 1 to enable\n",
    "                    #callbacks=[callbackmethod]) - disabled for this run\n",
    "                    #class_weight = dict_class_weights - disabled for this run"
   ]
  },
  {
   "cell_type": "code",
   "execution_count": 15,
   "metadata": {},
   "outputs": [
    {
     "data": {
      "image/png": "[encoded data removed]",
      "text/plain": [
       "<Figure size 720x720 with 1 Axes>"
      ]
     },
     "metadata": {
      "needs_background": "light"
     },
     "output_type": "display_data"
    }
   ],
   "source": [
    "# Checking the the accuracy and loss graphs for the training done (bidirectional LSTM model)\n",
    "\n",
    "plt.figure(figsize=(10,10))\n",
    "\n",
    "acc = history.history['acc']\n",
    "val_acc = history.history['val_acc']\n",
    "loss = history.history['loss']\n",
    "val_loss = history.history['val_loss']\n",
    "epochs = range(1, len(loss)+1)\n",
    "\n",
    "plt.plot(epochs, acc, 'bo-', label = \"Training accuracy\")\n",
    "plt.plot(epochs, val_acc, 'b*--', alpha=0.5, label = \"Validation accuracy\")\n",
    "plt.plot(epochs, loss, 'ro-', label = \"Training loss\")\n",
    "plt.plot(epochs, val_loss, 'r*--', alpha=0.5, label = \"Validation loss\")\n",
    "plt.title('Bidirectional LSTM model: training and validation accuracy')\n",
    "plt.xlabel('epochs')\n",
    "plt.ylabel('accuracy/loss')\n",
    "plt.grid()\n",
    "plt.legend()\n",
    "\n",
    "plt.show()"
   ]
  },
  {
   "cell_type": "code",
   "execution_count": 16,
   "metadata": {},
   "outputs": [
    {
     "data": {
      "image/png": "[encoded data removed]",
      "text/plain": [
       "<Figure size 720x720 with 1 Axes>"
      ]
     },
     "metadata": {
      "needs_background": "light"
     },
     "output_type": "display_data"
    }
   ],
   "source": [
    "# Checking the the accuracy and loss graphs for the training done (simple LSTM model)\n",
    "\n",
    "plt.figure(figsize=(10,10))\n",
    "\n",
    "acc2 = history_simple.history['acc']\n",
    "val_acc2 = history_simple.history['val_acc']\n",
    "loss2 = history_simple.history['loss']\n",
    "val_loss2 = history_simple.history['val_loss']\n",
    "epochs2 = range(1, len(loss)+1)\n",
    "\n",
    "plt.plot(epochs2, acc2, 'bo-', label = \"Training accuracy\")\n",
    "plt.plot(epochs2, val_acc2, 'b*--', alpha=0.5, label = \"Validation accuracy\")\n",
    "plt.plot(epochs2, loss2, 'ro-', label = \"Training loss\")\n",
    "plt.plot(epochs2, val_loss2, 'r*--', alpha=0.5, label = \"Validation loss\")\n",
    "plt.title('Simple LSTM model: training and validation accuracy')\n",
    "plt.xlabel('epochs')\n",
    "plt.ylabel('accuracy/loss')\n",
    "plt.grid()\n",
    "plt.legend()\n",
    "\n",
    "plt.show()"
   ]
  },
  {
   "cell_type": "markdown",
   "metadata": {},
   "source": [
    "The bidirectional model seems to have more balanced learning graphs (loss and accuracy follow the training trend) and with more epochs we think it would pull ahead of the 1 layer LSTM model by a notch. The simple model usually shows signs of overfitting within the first 10 epochs and very seldom needs more training than that to reach the maximum potential for the predictions."
   ]
  },
  {
   "cell_type": "markdown",
   "metadata": {},
   "source": [
    "# 5. Results & Discussion"
   ]
  },
  {
   "cell_type": "markdown",
   "metadata": {},
   "source": [
    "## Using class weights for training\n",
    "With the initial simple LSTM model created we had an issue with labels 1 (rating 5-6) being predicted very seldom compared to the labels 0 and 2, which was caused by the smaller fraction of the data with label 1 in the data set. We tried adding class weights to solve the issue and tested the performance of the models with predicting the unseen test set after 5 and 10 epochs of training.\n",
    "\n",
    "### Simple LSTM model used for weight testing\n",
    "> model = Sequential()<br>\n",
    "> model.add(Embedding(5000, 16, input_length = maxlen))<br>\n",
    "> model.add(LSTM(16, dropout = 0.2, recurrent_dropout = 0.2))<br>\n",
    "> model.add(Dense(3, activation = 'softmax')) \n",
    "\n",
    "### Weights used calculated with sklearn.utils.class_weight\n",
    "> label 0: 1.3416261176959867<br>\n",
    "> label 1: 3.745170428160119<br>\n",
    "> label 2: 0.5031129327070037\n",
    "\n",
    "<u> Label 1 predictions using test set after training for 5 epochs</u>\n",
    "* **without class weights:** only 21 predictions were labeled as 1 (rating 5-6)\n",
    "* **with class weights**: approximately 6000 predictions were labeled as 1 (rating 5-6)\n",
    "\n",
    "<u>Label 1 predictions using test set after training for 10 epochs</u>\n",
    "* **without class weights:** only 71 predictions were labeled as 1 (rating 5-6)\n",
    "* **with class weights**: approximately 12000 predictions were labeled as 1 (rating 5-6)\n",
    "\n",
    "### Use of class weights in training after assessing performance\n",
    "We assessed using class weights with this particular data set in order to assure better predictions for the poorly represented class 1. We ran 2 identical simple LSTM models with identical training data: of which one had class weights enabled for training. The model that used class weights for training clearly started to overemphasize predictions for label 1. After 5 epochs the weighted model seemed better, but after 10 epochs were passed the non-weighted model started to have better metrics on both validation and test sets. The trend seemed to continue running more epochs past 10. Modifying the weights manually so that the class label 1 would have less weight might result in a better outcome."
   ]
  },
  {
   "cell_type": "markdown",
   "metadata": {},
   "source": [
    "## Metrics using the unseen test data\n",
    "\n",
    "### Classification reports and confusion matrixes reviewed"
   ]
  },
  {
   "cell_type": "code",
   "execution_count": 17,
   "metadata": {},
   "outputs": [
    {
     "name": "stdout",
     "output_type": "stream",
     "text": [
      "              precision    recall  f1-score   support\n",
      "\n",
      "           0       0.71      0.67      0.69     13497\n",
      "           1       0.38      0.01      0.02      4829\n",
      "           2       0.82      0.94      0.87     35440\n",
      "\n",
      "    accuracy                           0.79     53766\n",
      "   macro avg       0.64      0.54      0.53     53766\n",
      "weighted avg       0.75      0.79      0.75     53766\n",
      "\n"
     ]
    }
   ],
   "source": [
    "# Classification report for bidirectional LSTM model using unseen test data\n",
    "\n",
    "# assigning predicted values (argmax used to convert one-hot back to integer)\n",
    "predicted = np.argmax(model.predict(test_sequences), axis = 1)\n",
    "\n",
    "# assigning true values from test set labels (argmax used to convert one-hot back to integer)\n",
    "truevalue = np.argmax(test_y, axis = 1)\n",
    "\n",
    "# creating a classification report\n",
    "cr_bilstm = classification_report(truevalue, predicted)\n",
    "\n",
    "print(cr_bilstm)"
   ]
  },
  {
   "cell_type": "code",
   "execution_count": 18,
   "metadata": {},
   "outputs": [
    {
     "name": "stdout",
     "output_type": "stream",
     "text": [
      "              precision    recall  f1-score   support\n",
      "\n",
      "           0       0.71      0.67      0.69     13497\n",
      "           1       0.28      0.01      0.01      4829\n",
      "           2       0.81      0.94      0.87     35440\n",
      "\n",
      "    accuracy                           0.79     53766\n",
      "   macro avg       0.60      0.54      0.53     53766\n",
      "weighted avg       0.74      0.79      0.75     53766\n",
      "\n"
     ]
    }
   ],
   "source": [
    "# Classification report for simple LSTM model using unseen test data\n",
    "\n",
    "# assigning predicted values (argmax used to convert one-hot back to int)\n",
    "predicted_simple = np.argmax(simple_model.predict(test_sequences), axis = 1)\n",
    "\n",
    "# creating a classification report\n",
    "cr_lstm = classification_report(truevalue, predicted_simple)\n",
    "\n",
    "print(cr_lstm)"
   ]
  },
  {
   "cell_type": "markdown",
   "metadata": {},
   "source": [
    "Assessing the printed classification reports it can be clearly seen that the models can sufficiently predict which texts lead to a positive review (rating 9-10) and also do quite okay with predicting bad reviews as well. Unfortunately for label 1 (ratings 5-6) the predictions are not as great, perhaps due to the small representation of ratings 5-6 in the data set. Next we shall check the confusion matrixes to have a closer look at the done predictions.\n",
    "\n",
    "Usually the models end up with 78-82% accuracy. Both models have reached an accuracy of 82% in our tests depending on the epochs used in training."
   ]
  },
  {
   "cell_type": "code",
   "execution_count": 19,
   "metadata": {},
   "outputs": [
    {
     "name": "stdout",
     "output_type": "stream",
     "text": [
      "[[ 9091  1602  2033]\n",
      " [   28    38    34]\n",
      " [ 4378  3189 33373]]\n"
     ]
    }
   ],
   "source": [
    "# Confusion matrix for bidirectional LSTM model showing all predictions for test set\n",
    "\n",
    "# creating a confusion matrix\n",
    "cm_bilstm = confusion_matrix(truevalue, predicted).T\n",
    "print(cm_bilstm)"
   ]
  },
  {
   "cell_type": "code",
   "execution_count": 20,
   "metadata": {},
   "outputs": [
    {
     "name": "stdout",
     "output_type": "stream",
     "text": [
      "[[ 9020  1588  2065]\n",
      " [   44    35    44]\n",
      " [ 4433  3206 33331]]\n"
     ]
    }
   ],
   "source": [
    "# Confusion matrix for simple LSTM model showing all predictions for test set\n",
    "\n",
    "# creating a confusion matrix\n",
    "cm_lstm = confusion_matrix(truevalue, predicted_simple).T\n",
    "print(cm_lstm)"
   ]
  },
  {
   "cell_type": "markdown",
   "metadata": {},
   "source": [
    "Looking closer at all predictions made we tried to grasp a better understanding on what the model predicted as neutral (rating 5-6) reviews. Seems that it mostly falsely predicted the label 1 for actual positive ratings with true label 2. Also quite often the models predicted more actual negative reviews to be neutral, instead of the actual neutral reviews. Overall it looks like both models are shying away of predicting the label class 1 for any of the reviews - some manually set class weights could solve the issue at hand. Also for the bidirectional LSTM model a bit of more training should do the trick."
   ]
  },
  {
   "cell_type": "markdown",
   "metadata": {},
   "source": [
    "### Cohen's kappa results for the test set"
   ]
  },
  {
   "cell_type": "markdown",
   "metadata": {},
   "source": [
    "**Cohen's kappa** is relatively a better metric to estimate the accuracy of a multiclass predictions, espescially in this dataset because the label 1 has a poor overall representation compared to other 2 classes - meaning it is easy to obtain a high accuracy even with never predicting anything to be a part of label class 1. Kappa fixes this issue since it measures how much better the classifier predicts compared to random guessing within the target distribution.\n",
    "\n",
    "<u>Kappa is calculated in the following manner:</u>  *(observed accuracy - expected accuracy)/(1 - expected accuracy)*\n",
    "> **observed accuracy** = *number of predictions matching the true label divided by the total amount of predictions*<br>\n",
    "> **expected accuracy** = *for each class calculate marginal frequency (amount of true labels x amount of predicted labels / total amount of labels). Add the marginal frequencies together and divide them using the total amount of predictions. As a result you get the expected accuracy.*\n",
    "\n",
    "<u>Example:</u>\n",
    "*30 total labels, true labels: 15 men, 15 women. Predictions represented in a confusion:*\n",
    "![](https://users.metropolia.fi/~samuer/cr7.jpg)\n",
    "\n",
    "  \n",
    "This would mean the **observer accuracy** would be: (10 + 8 / 30) = **0.6**<br>\n",
    "and the **marginal frequency for women** classifier:  (15 x 17 / 30) = **8.5**<br>\n",
    "also **marginal frequency for men** clasiffier: (15 x 13 / 30) = **6.5**<br>\n",
    "So the **total expected accuracy** would be calculated (8.5 + 6.5 / 30) = **0.5**<br>\n",
    "\n",
    "The **kappa** would then be calculated as follows: (0.6 - 0.5) / (1 - 0.5) = **0.2**, which is not too good. A good value for kappa would be over 0.61, in which case the classifier is actually doing it's job properly with each class. Typically Kappa between 0.41–0.60 is considered moderate, 0.61–0.80 is considered as substantial, and 0.81–1.00 is considered as almost perfect interrater reliability.  "
   ]
  },
  {
   "cell_type": "code",
   "execution_count": 21,
   "metadata": {},
   "outputs": [
    {
     "name": "stdout",
     "output_type": "stream",
     "text": [
      "Cohen's kappa (linear)    = 0.522\n",
      "Cohen's kappa (quadratic) = 0.617\n"
     ]
    }
   ],
   "source": [
    "# Cohen's kappa for test set predictions (biLSTM model)\n",
    "\n",
    "kappa = cohen_kappa_score(truevalue, predicted)\n",
    "print(f\"Cohen's kappa (linear)    = {kappa:.3f}\")\n",
    "quadkappa = cohen_kappa_score(truevalue, predicted, weights = 'quadratic')\n",
    "print(f\"Cohen's kappa (quadratic) = {quadkappa:.3f}\")"
   ]
  },
  {
   "cell_type": "code",
   "execution_count": 22,
   "metadata": {},
   "outputs": [
    {
     "name": "stdout",
     "output_type": "stream",
     "text": [
      "Cohen's kappa (linear)    = 0.517\n",
      "Cohen's kappa (quadratic) = 0.612\n"
     ]
    }
   ],
   "source": [
    "# Cohen's kappa for test set predictions (simple LSTM model)\n",
    "\n",
    "kappa2 = cohen_kappa_score(truevalue, predicted_simple)\n",
    "print(f\"Cohen's kappa (linear)    = {kappa2:.3f}\")\n",
    "quadkappa2 = cohen_kappa_score(truevalue, predicted_simple, weights = 'quadratic')\n",
    "print(f\"Cohen's kappa (quadratic) = {quadkappa2:.3f}\")"
   ]
  },
  {
   "cell_type": "markdown",
   "metadata": {},
   "source": [
    "The cohen's kappa clearly shows that the both models are doing okay, but neither is performing great. The kappa score is dropped by the poor predictions made for neutral review class 1, as the accuracy of the models is pretty good, but the interrater reliability suffers as an result."
   ]
  },
  {
   "cell_type": "markdown",
   "metadata": {},
   "source": [
    "### Evaluate final accuracy and loss of the models"
   ]
  },
  {
   "cell_type": "code",
   "execution_count": 23,
   "metadata": {},
   "outputs": [
    {
     "name": "stdout",
     "output_type": "stream",
     "text": [
      "53766/53766 [==============================] - 127s 2ms/sample - loss: 0.5538 - acc: 0.7905\n"
     ]
    },
    {
     "data": {
      "text/plain": [
       "[0.5538175759653212, 0.79049957]"
      ]
     },
     "execution_count": 23,
     "metadata": {},
     "output_type": "execute_result"
    }
   ],
   "source": [
    "# Final test set accuracy and loss for the bidirectional LSTM model\n",
    "\n",
    "model.evaluate(test_sequences, test_y)"
   ]
  },
  {
   "cell_type": "code",
   "execution_count": 24,
   "metadata": {},
   "outputs": [
    {
     "name": "stdout",
     "output_type": "stream",
     "text": [
      "53766/53766 [==============================] - 39s 720us/sample - loss: 0.5593 - acc: 0.7883\n"
     ]
    },
    {
     "data": {
      "text/plain": [
       "[0.5593015321578244, 0.78834206]"
      ]
     },
     "execution_count": 24,
     "metadata": {},
     "output_type": "execute_result"
    }
   ],
   "source": [
    "# Final test set accuracy and loss for the simple LSTM model\n",
    "\n",
    "simple_model.evaluate(test_sequences, test_y)"
   ]
  },
  {
   "cell_type": "markdown",
   "metadata": {},
   "source": [
    "Accuracy and loss for both models are decent as seen above in the model evaluation. Cohen's kappa on the other hand would need improving that could be achieved by using custom weights for the classes or more epochs for the training phase. At least the bidirectional LSTM model shouldn't start overfitting - for the simple model the custom class weights might be a better option as in some runs it has shown signs of overfitting already."
   ]
  },
  {
   "cell_type": "markdown",
   "metadata": {},
   "source": [
    "# 6. Conclusions"
   ]
  },
  {
   "cell_type": "markdown",
   "metadata": {},
   "source": [
    "It seems that RNN let alone LSTM is very computer costly, and therefore very time consuming. In order to really see difference in performance, the model training should be run with a big amount of epochs and use early stopping to stop the training at optimal stage. With the amount of training for each of the models we couldn't get there. \n",
    "\n",
    "The bidirectional LSTM model would probably do fine if we had NASA computers and added a third biLSTM layer and trained the model with more epochs. The simple LSTM model could probably improve with manually set weights to make it emphasize more on the neutral class - also at this stage it is unclear if using more epochs for training could increase the performance here as well.\n",
    "\n",
    "Judging by the literature bi-LSTM should perform better. However we could not verify that with the amount of epochs run. LSTM and bi-LSTM proved to be the heaviest on hardware and had pretty much of the same burden computerwise. We noticed, that adding an extra layer to the model, the time consumed per epoch was roughly doubled and even with the TPU activated it is too time consuming to benchmark within our given timeframe for the assignment.\n",
    "\n",
    "The accuracy achieved with the simple LSTM model was decent and we are somewhat happy with the results, at least in terms of learning what would be needed to go further with the two LSTM models. Pal et al. managed to get an accuracy of roughly 84 % for a model that was more complex and categorizing the sentiment only as positive or negative. So compared to that the our bidirectional LSTM model was decent when predicting the neutral ratings as well. However, the model presented in this notebook would not be of very practical. If we had more calculation power to run faster epochs and to build a more complex bidirectional LSTM model closer to what Pal et al. had, perhaps we could get closer to their achieved metrics."
   ]
  }
 ],
 "metadata": {
  "kernelspec": {
   "display_name": "Python 3",
   "language": "python",
   "name": "python3"
  },
  "language_info": {
   "codemirror_mode": {
    "name": "ipython",
    "version": 3
   },
   "file_extension": ".py",
   "mimetype": "text/x-python",
   "name": "python",
   "nbconvert_exporter": "python",
   "pygments_lexer": "ipython3",
   "version": "3.6.6"
  }
 },
 "nbformat": 4,
 "nbformat_minor": 4
}
