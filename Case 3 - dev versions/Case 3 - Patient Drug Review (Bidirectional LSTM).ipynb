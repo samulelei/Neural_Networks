{
 "cells": [
  {
   "cell_type": "markdown",
   "metadata": {},
   "source": [
    "<h1>Table of Contents<span class=\"tocSkip\"></span></h1>\n",
    "<div class=\"toc\"><ul class=\"toc-item\"><li><span><a href=\"#Case-X.-Template\" data-toc-modified-id=\"Case-X.-Template-1\"><span class=\"toc-item-num\">1&nbsp;&nbsp;</span>Case 3: Patient Drug Review</a></span></li><li><span><a href=\"#Background\" data-toc-modified-id=\"Background-2\"><span class=\"toc-item-num\">2&nbsp;&nbsp;</span>Background</a></span></li><li><span><a href=\"#Data\" data-toc-modified-id=\"Data-3\"><span class=\"toc-item-num\">3&nbsp;&nbsp;</span>Data</a></span></li><li><span><a href=\"#Modes-and-training\" data-toc-modified-id=\"Modes-and-training-4\"><span class=\"toc-item-num\">4&nbsp;&nbsp;</span>Modes and training</a></span></li><li><span><a href=\"#Results-and-Discussion\" data-toc-modified-id=\"Results-and-Discussion-5\"><span class=\"toc-item-num\">5&nbsp;&nbsp;</span>Results and Discussion</a></span></li><li><span><a href=\"#Conclusions\" data-toc-modified-id=\"Conclusions-6\"><span class=\"toc-item-num\">6&nbsp;&nbsp;</span>Conclusions</a></span></li></ul></div>"
   ]
  },
  {
   "cell_type": "markdown",
   "metadata": {},
   "source": [
    "# Case 3: Patient Drug Review\n",
    "Team 12: Jari Putaansuu, Samuel Räsänen and Arttu Sundell<br>\n",
    "Last edited: 18.03.2020<br>\n",
    "Neural Networks for Health Technology Applications<br>\n",
    "[Helsinki Metropolia University of Applied Sciences](http://www.metropolia.fi/en/)<br>"
   ]
  },
  {
   "cell_type": "markdown",
   "metadata": {},
   "source": [
    "# 2. Background"
   ]
  },
  {
   "cell_type": "markdown",
   "metadata": {},
   "source": [
    "The main aim is to create a classifier that predicts the the rating (from 1 to 10) of a drug based on the given review. The predictions are simplified by splitting them into three sentimental categories: \n",
    "\n",
    "* negative (ratings 1, 2, 3, 4)\n",
    "* neutral (ratings 5 and 6)\n",
    "* positive (ratings 7, 8, 9, 10)"
   ]
  },
  {
   "cell_type": "markdown",
   "metadata": {},
   "source": [
    "## Tools"
   ]
  },
  {
   "cell_type": "code",
   "execution_count": 1,
   "metadata": {},
   "outputs": [
    {
     "name": "stderr",
     "output_type": "stream",
     "text": [
      "Using TensorFlow backend.\n"
     ]
    }
   ],
   "source": [
    "## Basic tools for data processing and visualizations and \n",
    "import numpy as np # linear algebra\n",
    "import pandas as pd # data processing\n",
    "import matplotlib.pyplot as plt # a comprehensive library for data visualization\n",
    "import os # functions for interacting with the operating system\n",
    "import tensorflow as tf\n",
    "from sklearn.model_selection import train_test_split # preprocessing datasets\n",
    "from tensorflow.keras.utils import to_categorical #create one-hot-encoded output\n",
    "from sklearn.utils import class_weight #calculate class weights for training using the labels\n",
    "\n",
    "## Tools for building Recurrent Neural Networks applied in this project\n",
    "from tensorflow.keras import preprocessing\n",
    "from tensorflow.keras.preprocessing.text import Tokenizer #A text tokenizer to vectorize a text corpus\n",
    "from tensorflow.keras.utils import to_categorical #Converts a class vector (integers) to binary class matrix\n",
    "from tensorflow.keras.models import Sequential #Sequential model methods\n",
    "from tensorflow.keras import layers, models, optimizers\n",
    "from tensorflow.keras.layers import Embedding, Flatten, Dense, SimpleRNN, Activation, Embedding, LSTM, Bidirectional #The applicable layers used in RNN model\n",
    "from sklearn.metrics import confusion_matrix, classification_report, cohen_kappa_score # final metrics\n",
    "from keras.callbacks.callbacks import EarlyStopping # to monitor training and stop when metrics stop improving\n"
   ]
  },
  {
   "cell_type": "code",
   "execution_count": 2,
   "metadata": {},
   "outputs": [],
   "source": [
    "#This cell enables TPU\n",
    "# detect and init the TPU\n",
    "tpu = tf.distribute.cluster_resolver.TPUClusterResolver()\n",
    "tf.config.experimental_connect_to_cluster(tpu)\n",
    "tf.tpu.experimental.initialize_tpu_system(tpu)\n",
    "\n",
    "# instantiate a distribution strategy\n",
    "tpu_strategy = tf.distribute.experimental.TPUStrategy(tpu)"
   ]
  },
  {
   "cell_type": "markdown",
   "metadata": {},
   "source": [
    "# 3. Data"
   ]
  },
  {
   "cell_type": "markdown",
   "metadata": {},
   "source": [
    "The dataset consists of patient reviews on specific drugs along with related conditions and a 10 star patient rating reflecting overall patient satisfaction. It also contain the number of users who found review useful. The data was obtained by crawling online pharmaceutical review sites.<br>\n",
    "<br>\n",
    "The data has six attributes: \n",
    "1. drugName (categorical): name of drug\n",
    "2. condition (categorical): name of condition\n",
    "3. review (text): patient review\n",
    "4. rating (numerical): 10 star patient rating\n",
    "5. date (date): date of review entry\n",
    "6. usefulCount (numerical): number of users who found review useful<br>\n",
    "\n",
    "The data is split into a train (75%) a test (25%) partition (see publication) and stored in two .tsv (tab-separated-values) files, respectively. \n",
    "\n",
    "The dataset was originally published on the UCI Machine Learning repository\n",
    "*Felix Gräßer, Surya Kallumadi, Hagen Malberg, and Sebastian Zaunseder. 2018. Aspect-Based Sentiment Analysis of Drug Reviews Applying Cross-Domain and Cross-Data Learning. In Proceedings of the 2018 International Conference on Digital Health (DH '18). ACM, New York, NY, USA, 121-125*."
   ]
  },
  {
   "cell_type": "code",
   "execution_count": 3,
   "metadata": {
    "_cell_guid": "",
    "_uuid": ""
   },
   "outputs": [],
   "source": [
    "#Reading the data into traindata and testdata\n",
    "traindata = pd.read_csv(\"../input/kuc-hackathon-winter-2018/drugsComTrain_raw.csv\") # 75% trainfraction\n",
    "testdata = pd.read_csv(\"../input/kuc-hackathon-winter-2018/drugsComTest_raw.csv\") # 25% testfraction"
   ]
  },
  {
   "cell_type": "code",
   "execution_count": 4,
   "metadata": {},
   "outputs": [
    {
     "data": {
      "text/html": [
       "<div>\n",
       "<style scoped>\n",
       "    .dataframe tbody tr th:only-of-type {\n",
       "        vertical-align: middle;\n",
       "    }\n",
       "\n",
       "    .dataframe tbody tr th {\n",
       "        vertical-align: top;\n",
       "    }\n",
       "\n",
       "    .dataframe thead th {\n",
       "        text-align: right;\n",
       "    }\n",
       "</style>\n",
       "<table border=\"1\" class=\"dataframe\">\n",
       "  <thead>\n",
       "    <tr style=\"text-align: right;\">\n",
       "      <th></th>\n",
       "      <th>uniqueID</th>\n",
       "      <th>drugName</th>\n",
       "      <th>condition</th>\n",
       "      <th>review</th>\n",
       "      <th>rating</th>\n",
       "      <th>date</th>\n",
       "      <th>usefulCount</th>\n",
       "    </tr>\n",
       "  </thead>\n",
       "  <tbody>\n",
       "    <tr>\n",
       "      <th>161292</th>\n",
       "      <td>191035</td>\n",
       "      <td>Campral</td>\n",
       "      <td>Alcohol Dependence</td>\n",
       "      <td>\"I wrote my first report in Mid-October of 201...</td>\n",
       "      <td>10</td>\n",
       "      <td>31-May-15</td>\n",
       "      <td>125</td>\n",
       "    </tr>\n",
       "    <tr>\n",
       "      <th>161293</th>\n",
       "      <td>127085</td>\n",
       "      <td>Metoclopramide</td>\n",
       "      <td>Nausea/Vomiting</td>\n",
       "      <td>\"I was given this in IV before surgey. I immed...</td>\n",
       "      <td>1</td>\n",
       "      <td>1-Nov-11</td>\n",
       "      <td>34</td>\n",
       "    </tr>\n",
       "    <tr>\n",
       "      <th>161294</th>\n",
       "      <td>187382</td>\n",
       "      <td>Orencia</td>\n",
       "      <td>Rheumatoid Arthritis</td>\n",
       "      <td>\"Limited improvement after 4 months, developed...</td>\n",
       "      <td>2</td>\n",
       "      <td>15-Mar-14</td>\n",
       "      <td>35</td>\n",
       "    </tr>\n",
       "    <tr>\n",
       "      <th>161295</th>\n",
       "      <td>47128</td>\n",
       "      <td>Thyroid desiccated</td>\n",
       "      <td>Underactive Thyroid</td>\n",
       "      <td>\"I&amp;#039;ve been on thyroid medication 49 years...</td>\n",
       "      <td>10</td>\n",
       "      <td>19-Sep-15</td>\n",
       "      <td>79</td>\n",
       "    </tr>\n",
       "    <tr>\n",
       "      <th>161296</th>\n",
       "      <td>215220</td>\n",
       "      <td>Lubiprostone</td>\n",
       "      <td>Constipation, Chronic</td>\n",
       "      <td>\"I&amp;#039;ve had chronic constipation all my adu...</td>\n",
       "      <td>9</td>\n",
       "      <td>13-Dec-14</td>\n",
       "      <td>116</td>\n",
       "    </tr>\n",
       "  </tbody>\n",
       "</table>\n",
       "</div>"
      ],
      "text/plain": [
       "        uniqueID            drugName              condition  \\\n",
       "161292    191035             Campral     Alcohol Dependence   \n",
       "161293    127085      Metoclopramide        Nausea/Vomiting   \n",
       "161294    187382             Orencia   Rheumatoid Arthritis   \n",
       "161295     47128  Thyroid desiccated    Underactive Thyroid   \n",
       "161296    215220        Lubiprostone  Constipation, Chronic   \n",
       "\n",
       "                                                   review  rating       date  \\\n",
       "161292  \"I wrote my first report in Mid-October of 201...      10  31-May-15   \n",
       "161293  \"I was given this in IV before surgey. I immed...       1   1-Nov-11   \n",
       "161294  \"Limited improvement after 4 months, developed...       2  15-Mar-14   \n",
       "161295  \"I&#039;ve been on thyroid medication 49 years...      10  19-Sep-15   \n",
       "161296  \"I&#039;ve had chronic constipation all my adu...       9  13-Dec-14   \n",
       "\n",
       "        usefulCount  \n",
       "161292          125  \n",
       "161293           34  \n",
       "161294           35  \n",
       "161295           79  \n",
       "161296          116  "
      ]
     },
     "execution_count": 4,
     "metadata": {},
     "output_type": "execute_result"
    }
   ],
   "source": [
    "# Examining the data layout\n",
    "\n",
    "traindata.tail()"
   ]
  },
  {
   "cell_type": "code",
   "execution_count": 5,
   "metadata": {},
   "outputs": [
    {
     "data": {
      "text/plain": [
       "array([2, 0, 0, 2, 2])"
      ]
     },
     "execution_count": 5,
     "metadata": {},
     "output_type": "execute_result"
    }
   ],
   "source": [
    "## Create three categories for ratings (positive, neutral, negative)\n",
    "\n",
    "# label = 2, when rating = 7-10 (positive)\n",
    "# label = 1, when rating = 5-6 (neutral)\n",
    "# label = 0, when rating = 1-4 (negative)\n",
    "\n",
    "# Extracting the explanatory variables (x) and response variables (y=rating)\n",
    "\n",
    "train_x = traindata['review'].values.tolist()\n",
    "train_y = traindata['rating'].values\n",
    "for i in range(len(train_y)):\n",
    "    x = train_y[i]\n",
    "    if x >= 7:\n",
    "        train_y[i]=2 #reviews higher than 6 get labes 2, which stands for positive\n",
    "    elif x > 4:\n",
    "        train_y[i]=1 #reviews higher than 4 but lower than 7 get labes 1, which stands for neutral\n",
    "    else:\n",
    "        train_y[i]=0 #the rest (reviews lower than 5) are labelled 0, and are considered negative\n",
    "\n",
    "test_x = testdata['review'].values.tolist()\n",
    "test_y = testdata['rating'].values\n",
    "for i in range(len(test_y)):\n",
    "    x = test_y[i]\n",
    "    if x >= 7:\n",
    "        test_y[i]=2 \n",
    "    elif x > 4:\n",
    "        test_y[i]=1 \n",
    "    else:\n",
    "        test_y[i]=0 \n",
    "    \n",
    "# Check that the labels are correct by displaying the same tail of traindata as in cells above\n",
    "train_y[161292:]"
   ]
  },
  {
   "cell_type": "markdown",
   "metadata": {},
   "source": [
    "As it seems the labels match the previously introduced ratings, Saul Goodman - moving on to creating a vocabulary and splitting the train data to train and validation sets."
   ]
  },
  {
   "cell_type": "code",
   "execution_count": 6,
   "metadata": {},
   "outputs": [
    {
     "name": "stdout",
     "output_type": "stream",
     "text": [
      "Train sequences:\n",
      "[5, 38, 28, 35, 197, 1, 45, 5, 15, 848, 12, 2922, 99, 150, 2, 3806, 1551]\n",
      "\n",
      "Train sequences after padding:\n",
      "[   0    0    0    0    0    0    0    0    0    0    0    0    0    0\n",
      "    0    0    0    0    0    0    0    0    0    0    0    0    0    0\n",
      "    0    0    0    0    0    0    0    0    0    0    0    0    0    0\n",
      "    0    0    0    0    0    0    0    0    0    0    0    0    0    0\n",
      "    0    0    0    0    0    0    0    0    0    0    0    0    0    0\n",
      "    0    0    0    0    0    0    0    0    0    0    0    0    0    5\n",
      "   38   28   35  197    1   45    5   15  848   12 2922   99  150    2\n",
      " 3806 1551]\n"
     ]
    }
   ],
   "source": [
    "## Tokenize the traindata review contents\n",
    "\n",
    "# Initialize Tokenizer\n",
    "tokenizer = Tokenizer(num_words = 5000)\n",
    "tokenizer.fit_on_texts(train_x)\n",
    "\n",
    "# Convert reviews to integer sequences (according to the words indexed in the previous step)\n",
    "train_sequences = tokenizer.texts_to_sequences(train_x)\n",
    "test_sequences = tokenizer.texts_to_sequences(test_x)\n",
    "\n",
    "# Test print\n",
    "print(\"Train sequences:\")\n",
    "print(train_sequences[0])\n",
    "\n",
    "# The reviews are padded to have equal length\n",
    "maxlen = 100\n",
    "train_sequences = preprocessing.sequence.pad_sequences(train_sequences, maxlen = maxlen)\n",
    "test_sequences = preprocessing.sequence.pad_sequences(test_sequences, maxlen = maxlen)\n",
    "\n",
    "# Test print after padding\n",
    "print(\"\\nTrain sequences after padding:\")\n",
    "print(train_sequences[0])"
   ]
  },
  {
   "cell_type": "code",
   "execution_count": 7,
   "metadata": {},
   "outputs": [
    {
     "name": "stdout",
     "output_type": "stream",
     "text": [
      "Labels before one hot encoding:\n",
      "[2 0 0 2 2]\n",
      "\n",
      "After one hot encoding:\n",
      "[[0. 0. 1.]\n",
      " [1. 0. 0.]\n",
      " [1. 0. 0.]\n",
      " [0. 0. 1.]\n",
      " [0. 0. 1.]]\n"
     ]
    }
   ],
   "source": [
    "# One hot encoding train and test labels (y-values)\n",
    "\n",
    "# Test print before one hot encoding\n",
    "print(\"Labels before one hot encoding:\")\n",
    "print(train_y[161292:])\n",
    "\n",
    "train_y = to_categorical(train_y)\n",
    "test_y = to_categorical(test_y)\n",
    "\n",
    "# Test print after one hot encoding\n",
    "print(\"\\nAfter one hot encoding:\")\n",
    "print(train_y[161292:])"
   ]
  },
  {
   "cell_type": "markdown",
   "metadata": {},
   "source": [
    "# 4. Models and training"
   ]
  },
  {
   "cell_type": "markdown",
   "metadata": {},
   "source": [
    "We experimented with different models from simple RNN, also called Vanilla RNN, a long short term memory (LSTM) - model, which is a more comlex model able to remember words further back the in the sentences, and a bidirectional version of LSTM. We were inspired to try out LSTM and bi-LSTM by Pal et al. conference paper, where they applied bi-LSTM to a movie review sentimental analysis, resembling the task at hand. However we decided to make a less deep network (we 2 hidden layer instead of 3 used in the original paper) since more layers ment more burden on the hardware which was more time consuming. Even though there was no huge difference between the models with the small amount of epochs we could try out in the timeframe (RNN/LSTM proved to be very computer costly and time consuming), the bi-LSTM managed to be just a little bit better. \n",
    "1. Pal, Subarno; Gosh, Sourmandip; Nag, Amitava 2017. SENTIMENT ANALYSIS IN THE LIGHT OF LSTM RECURRENT NEURAL NETWORKS. Conference paper:International Conference on Information Technology and Applied Mathematics. Researchgate scientific publishing platform 2017. Available online at https://www.researchgate.net/publication/326242364_Sentiment_Analysis_in_the_Light_of_LSTM_Recurrent_Neural_Networks"
   ]
  },
  {
   "cell_type": "code",
   "execution_count": 8,
   "metadata": {
    "_cell_guid": "79c7e3d0-c299-4dcb-8224-4455121ee9b0",
    "_uuid": "d629ff2d2480ee46fbb7e2d37f6b5fab8052498a"
   },
   "outputs": [
    {
     "name": "stdout",
     "output_type": "stream",
     "text": [
      "Model: \"sequential\"\n",
      "_________________________________________________________________\n",
      "Layer (type)                 Output Shape              Param #   \n",
      "=================================================================\n",
      "embedding (Embedding)        (None, 100, 16)           80000     \n",
      "_________________________________________________________________\n",
      "bidirectional (Bidirectional (None, 100, 32)           4224      \n",
      "_________________________________________________________________\n",
      "bidirectional_1 (Bidirection (None, 32)                6272      \n",
      "_________________________________________________________________\n",
      "dense (Dense)                (None, 3)                 99        \n",
      "=================================================================\n",
      "Total params: 90,595\n",
      "Trainable params: 90,595\n",
      "Non-trainable params: 0\n",
      "_________________________________________________________________\n"
     ]
    }
   ],
   "source": [
    "# Create a sequential model including Embedding, LSTM and Dense layers\n",
    "\n",
    "model = Sequential()\n",
    "#embedding layer to turn positive integers (indexes) into dense vectors of fixed size \"maxlen\" !needs to be the first layer\"\n",
    "model.add(Embedding(5000, 16, input_length = maxlen))\n",
    "#Fist bidirectional layer must have return sequences True to be able to stack with another layer\n",
    "model.add(Bidirectional(LSTM(16,dropout=0.2, recurrent_dropout=0.2,return_sequences=True)))\n",
    "model.add(Bidirectional(LSTM(16,dropout=0.2, recurrent_dropout=0.2)))\n",
    "\n",
    "#output layer, needs to be the same size as number of classes\n",
    "model.add(Dense(3, activation = 'softmax')) \n",
    "\n",
    "model.summary()"
   ]
  },
  {
   "cell_type": "code",
   "execution_count": 9,
   "metadata": {},
   "outputs": [
    {
     "name": "stdout",
     "output_type": "stream",
     "text": [
      "Weights for each class:\n",
      "{0: 1.3416261176959867, 1: 3.745170428160119, 2: 0.5031129327070037}\n"
     ]
    }
   ],
   "source": [
    "# Compiling the models and calculating appropriate weights for the classes\n",
    "\n",
    "#categorical_crossentropy because of problem being multiclass\n",
    "model.compile(optimizer = 'rmsprop', loss = 'categorical_crossentropy', metrics = ['acc']) \n",
    "\n",
    "# Calculating class weights for setting weights during training\n",
    "train_y_int = np.argmax(train_y, axis=1) #casting one-hot labels back to integer\n",
    "class_weights = class_weight.compute_class_weight('balanced', np.unique(train_y_int), train_y_int) #using sklearn.class_weight to calculate balanced weights\n",
    "dict_class_weights = dict(enumerate(class_weights)) #creating a dictionary for the weights\n",
    "\n",
    "#print the calculated class weights for each class\n",
    "print('Weights for each class:')\n",
    "print(dict_class_weights)"
   ]
  },
  {
   "cell_type": "code",
   "execution_count": 10,
   "metadata": {},
   "outputs": [
    {
     "name": "stdout",
     "output_type": "stream",
     "text": [
      "Train on 129037 samples, validate on 32260 samples\n",
      "Epoch 1/10\n",
      "129037/129037 [==============================] - 811s 6ms/sample - loss: 0.6435 - acc: 0.7576 - val_loss: 0.6090 - val_acc: 0.7773\n",
      "Epoch 2/10\n",
      "129037/129037 [==============================] - 799s 6ms/sample - loss: 0.5874 - acc: 0.7849 - val_loss: 0.5848 - val_acc: 0.7802\n",
      "Epoch 3/10\n",
      "129037/129037 [==============================] - 799s 6ms/sample - loss: 0.5665 - acc: 0.7922 - val_loss: 0.5634 - val_acc: 0.7920\n",
      "Epoch 4/10\n",
      "129037/129037 [==============================] - 796s 6ms/sample - loss: 0.5496 - acc: 0.7986 - val_loss: 0.5536 - val_acc: 0.7928\n",
      "Epoch 5/10\n",
      "129037/129037 [==============================] - 775s 6ms/sample - loss: 0.5062 - acc: 0.8135 - val_loss: 0.5223 - val_acc: 0.8077\n",
      "Epoch 9/10\n",
      " 26080/129037 [=====>........................] - ETA: 9:53 - loss: 0.4990 - acc: 0.8135"
     ]
    }
   ],
   "source": [
    "# Train the model by fitting the data\n",
    "\n",
    "# Settings for training\n",
    "epochs = 10\n",
    "patience = 0.1 * epochs\n",
    "#callbackmethod = EarlyStopping(monitor='val_loss', mode='min', min_delta=0.01, verbose=1, patience=patience)\n",
    "\n",
    "# Training the model with weights\n",
    "history = model.fit(train_sequences, train_y, \n",
    "                    epochs = epochs,\n",
    "                    batch_size = 32, \n",
    "                    validation_split = 0.2)\n",
    "                    #class_weight = dict_class_weights,\n",
    "                    #callbacks=[callbackmethod])\n",
    "                    "
   ]
  },
  {
   "cell_type": "code",
   "execution_count": 11,
   "metadata": {},
   "outputs": [
    {
     "data": {
      "image/png": "[encoded data removed]",
      "text/plain": [
       "<Figure size 720x720 with 1 Axes>"
      ]
     },
     "metadata": {
      "needs_background": "light"
     },
     "output_type": "display_data"
    }
   ],
   "source": [
    "# Checking the the accuracy and loss graphs for the training done\n",
    "\n",
    "plt.figure(figsize=(10,10))\n",
    "\n",
    "acc = history.history['acc']\n",
    "val_acc = history.history['val_acc']\n",
    "loss = history.history['loss']\n",
    "val_loss = history.history['val_loss']\n",
    "epochs = range(1, len(loss)+1)\n",
    "\n",
    "plt.plot(epochs, acc, 'bo-', label = \"Training accuracy\")\n",
    "plt.plot(epochs, val_acc, 'b*--', alpha=0.5, label = \"Validation accuracy\")\n",
    "plt.plot(epochs, loss, 'ro-', label = \"Training loss\")\n",
    "plt.plot(epochs, val_loss, 'r*--', alpha=0.5, label = \"Validation loss\")\n",
    "plt.title('Training and validation accuracy with weights')\n",
    "plt.xlabel('epochs')\n",
    "plt.ylabel('accuracy/loss')\n",
    "plt.grid()\n",
    "plt.legend()\n",
    "\n",
    "plt.show()"
   ]
  },
  {
   "cell_type": "markdown",
   "metadata": {},
   "source": [
    "# 5. Results & Discussion"
   ]
  },
  {
   "cell_type": "markdown",
   "metadata": {},
   "source": [
    "## Using class weights for training\n",
    "With the initial simple LSTM model created we had an issue with labels 1 (rating 5-6) being predicted very seldom compared to the labels 0 and 2, which was caused by the smaller fraction of the data with label 1 in the data set. We tried adding class weights to solve the issue and tested the performance of the models with predicting the unseen test set after 5 and 10 epochs of training.\n",
    "\n",
    "### Simple LSTM model used for weight testing\n",
    "> model = Sequential()<br>\n",
    "> model.add(Embedding(5000, 16, input_length = maxlen))<br>\n",
    "> model.add(LSTM(16, dropout = 0.2, recurrent_dropout = 0.2))<br>\n",
    "> model.add(Dense(3, activation = 'softmax')) \n",
    "\n",
    "### Weights used calculated with sklearn.utils.class_weight\n",
    "> label 0: 1.3416261176959867<br>\n",
    "> label 1: 3.745170428160119<br>\n",
    "> label 2: 0.5031129327070037\n",
    "\n",
    "<u> Label 1 predictions using test set after training for 5 epochs</u>\n",
    "* **without class weights:** only 21 predictions were labeled as 1 (rating 5-6)\n",
    "* **with class weights**: approximately 6000 predictions were labeled as 1 (rating 5-6)\n",
    "\n",
    "<u>Label 1 predictions using test set after training for 10 epochs</u>\n",
    "* **without class weights:** only 71 predictions were labeled as 1 (rating 5-6)\n",
    "* **with class weights**: approximately 12000 predictions were labeled as 1 (rating 5-6)\n",
    "\n",
    "### Use of class weights in training after assessing performance\n",
    "We assessed using class weights with this particular data set in order to assure better predictions for the poorly represented class 1. We ran 2 identical simple LSTM models with identical training data: of which one had class weights enabled for training. The model that used class weights for training clearly started to overemphasize predictions for label 1. After 5 epochs the weighted model seemed better, but after 10 epochs were passed the non-weighted model started to have better metrics on both validation and test sets. The trend seemed to continue even with more epochs. Modifying the weights manually so that the class label 1 would have less weight might result in a better outcome."
   ]
  },
  {
   "cell_type": "markdown",
   "metadata": {},
   "source": [
    "## Metrics using the unseen test data\n",
    "\n",
    "### Classification report and confusion matrix reviewed"
   ]
  },
  {
   "cell_type": "code",
   "execution_count": 12,
   "metadata": {},
   "outputs": [
    {
     "name": "stdout",
     "output_type": "stream",
     "text": [
      "              precision    recall  f1-score   support\n",
      "\n",
      "           0       0.77      0.69      0.73     13497\n",
      "           1       0.35      0.00      0.01      4829\n",
      "           2       0.82      0.96      0.88     35440\n",
      "\n",
      "    accuracy                           0.81     53766\n",
      "   macro avg       0.65      0.55      0.54     53766\n",
      "weighted avg       0.76      0.81      0.77     53766\n",
      "\n"
     ]
    }
   ],
   "source": [
    "# Use the model to predict unseen test set and compare the results to known true labels\n",
    "\n",
    "# assigning predicted values (argmax used to convert one-hot back to int)\n",
    "predicted = np.argmax(model.predict(test_sequences), axis = 1)\n",
    "truevalue = np.argmax(test_y, axis = 1)\n",
    "\n",
    "# creating a classification report\n",
    "cr = classification_report(truevalue, predicted)\n",
    "\n",
    "print(cr)"
   ]
  },
  {
   "cell_type": "markdown",
   "metadata": {},
   "source": [
    "Assessing the printed classification report it can be clearly seen that the model can sufficiently predict which texts lead to a positive (rating 9-10) review and also does okay with predicting bad reviews. Unfortunately for label 1 (ratings 5-6) the predictions are not so great, due to the small representation in data set."
   ]
  },
  {
   "cell_type": "code",
   "execution_count": 13,
   "metadata": {},
   "outputs": [
    {
     "name": "stdout",
     "output_type": "stream",
     "text": [
      "[[ 9347  1400  1371]\n",
      " [   15    13     9]\n",
      " [ 4135  3416 34060]]\n"
     ]
    }
   ],
   "source": [
    "# Calculating the confusion matrix showing all predictions made for test set\n",
    "\n",
    "# creating a confusion matrix\n",
    "cm = confusion_matrix(truevalue, predicted).T\n",
    "print(cm)"
   ]
  },
  {
   "cell_type": "markdown",
   "metadata": {},
   "source": [
    "Looking closer at all predictions made we tried to grasp a better understanding on what the model predicted as neutral (rating 5-6) reviews. Seems that it mostly falsely predicted the label 1 for actual positive ratings with true label 2. Also more negative reviews with label 0 were predicted to have the label 1 than actual truely neutral reviews did."
   ]
  },
  {
   "cell_type": "markdown",
   "metadata": {},
   "source": [
    "## Cohen's kappa results for the test set"
   ]
  },
  {
   "cell_type": "markdown",
   "metadata": {},
   "source": [
    "**Cohen's kappa** is relatively a better metric to estimate the accuracy of a multiclass predictions, espescially in this dataset because the label 1 has a poor overall representation compared to other 2 classes - meaning it is easy to obtain a high accuracy even with never predicting anything to be a part of label class 1. Kappa fixes this issue since it measures how much better the classifier predicts compared to random guessing within the target distribution.\n",
    "\n",
    "<u>Kappa is calculated in the following manner:</u>  *(observed accuracy - expected accuracy)/(1 - expected accuracy)*\n",
    "> **observed accuracy** = *number of predictions matching the true label divided by the total amount of predictions*<br>\n",
    "> **expected accuracy** = *for each class calculate marginal frequency (amount of true labels x amount of predicted labels / total amount of labels). Add the marginal frequencies together and divide them using the total amount of predictions. As a result you get the expected accuracy.*\n",
    "\n",
    "<u>Example:</u>\n",
    "*30 total labels, true labels: 15 men, 15 women. Predictions represented in a confusion:*\n",
    "![](https://users.metropolia.fi/~samuer/cr7.jpg)\n",
    "\n",
    "  \n",
    "This would mean the **observer accuracy** would be: (10 + 8 / 30) = **0.6**<br>\n",
    "and the **marginal frequency for women** classifier:  (15 x 17 / 30) = **8.5**<br>\n",
    "also **marginal frequency for men** clasiffier: (15 x 13 / 30) = **6.5**<br>\n",
    "So the **total expected accuracy** would be calculated (8.5 + 6.5 / 30) = **0.5**<br>\n",
    "\n",
    "The **kappa** would then be calculated as follows: (0.6 - 0.5) / (1 - 0.5) = **0.2**, which is not too good. A good value for kappa would be around 0.7 in which case the classifier is actually doing it's job properly with each class."
   ]
  },
  {
   "cell_type": "code",
   "execution_count": 14,
   "metadata": {},
   "outputs": [
    {
     "name": "stdout",
     "output_type": "stream",
     "text": [
      "Cohen's kappa (linear)    = 0.556\n",
      "Cohen's kappa (quadratic) = 0.658\n"
     ]
    }
   ],
   "source": [
    "# Calculating the cohen's kappa for test set predictions with linear and quadratic weights (weighted training)\n",
    "\n",
    "kappa = cohen_kappa_score(truevalue, predicted)\n",
    "print(f\"Cohen's kappa (linear)    = {kappa:.3f}\")\n",
    "quadkappa = cohen_kappa_score(truevalue, predicted, weights = 'quadratic')\n",
    "print(f\"Cohen's kappa (quadratic) = {quadkappa:.3f}\")"
   ]
  },
  {
   "cell_type": "markdown",
   "metadata": {},
   "source": [
    "The cohen's kappa clearly shows that the model is good, but not great."
   ]
  },
  {
   "cell_type": "code",
   "execution_count": 15,
   "metadata": {},
   "outputs": [
    {
     "name": "stdout",
     "output_type": "stream",
     "text": [
      "53766/53766 [==============================] - 50s 937us/sample - loss: 0.5171 - acc: 0.8076\n"
     ]
    },
    {
     "data": {
      "text/plain": [
       "[0.5171341636014323, 0.80757356]"
      ]
     },
     "execution_count": 15,
     "metadata": {},
     "output_type": "execute_result"
    }
   ],
   "source": [
    "# Raw loss and accuracy calculated for the test set (weighted model)\n",
    "\n",
    "model.evaluate(test_sequences, test_y)"
   ]
  },
  {
   "cell_type": "markdown",
   "metadata": {},
   "source": [
    "Accuracy is decent. T: Samuel"
   ]
  },
  {
   "cell_type": "markdown",
   "metadata": {},
   "source": [
    "# 6. Conclusions"
   ]
  },
  {
   "cell_type": "markdown",
   "metadata": {},
   "source": [
    "It seems that RNN let alone LSTM is very computer costly, and therefore very time consuming. In order to really see difference in performance, the model training should be run with a big amount of epochs and use early stopping to stop the training at optimal stage. With the amount of training for each of the models we couldn't get there. Judging by the literature bi-LSTM should perform better. However we could not verify that with the amount of epochs run. LSTM and bi-LSTM proved to be the heaviest on hardware and had pretty much of the same burden computerwise. We noticed, that adding an extra layer to the model, the time consumed per epoch was roughly doubled.\n",
    "The accuracy gained with the model was decent, and we are happy with the results in terms of learning. Pal et al. managed to get an accuracy of roughly 84 % for a model that was more complex and categorizing the sentiment only as positive or negative. So compared to that the model was OK. However, the model presented in this notebook would not be of very practical use."
   ]
  }
 ],
 "metadata": {
  "kernelspec": {
   "display_name": "Python 3",
   "language": "python",
   "name": "python3"
  },
  "language_info": {
   "codemirror_mode": {
    "name": "ipython",
    "version": 3
   },
   "file_extension": ".py",
   "mimetype": "text/x-python",
   "name": "python",
   "nbconvert_exporter": "python",
   "pygments_lexer": "ipython3",
   "version": "3.6.6"
  }
 },
 "nbformat": 4,
 "nbformat_minor": 4
}
